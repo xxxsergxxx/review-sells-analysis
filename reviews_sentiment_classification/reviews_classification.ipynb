{
 "cells": [
  {
   "cell_type": "markdown",
   "metadata": {
    "id": "yBm8HZacZ3oQ"
   },
   "source": [
    "# **Сlassification of comments into positive and negative**"
   ]
  },
  {
   "cell_type": "code",
   "execution_count": 1,
   "metadata": {
    "colab": {
     "base_uri": "https://localhost:8080/",
     "height": 89
    },
    "id": "RN9OcktYaG66",
    "outputId": "ce122818-5c93-403f-e29e-810a43fc0b15"
   },
   "outputs": [],
   "source": [
    "TF_USE_LEGACY_KERAS=1\n",
    "\n",
    "import numpy as np\n",
    "import pandas as pd\n",
    "import tensorflow as tf\n",
    "import matplotlib.pyplot as plt\n",
    "import seaborn as sns\n",
    "\n",
    "#general purpose packages\n",
    "import numpy as np\n",
    "import pandas as pd\n",
    "import tensorflow as tf\n",
    "import matplotlib.pyplot as plt\n",
    "import seaborn as sns\n",
    "\n",
    "#data processing\n",
    "import re, string\n",
    "import emoji\n",
    "import nltk\n",
    "\n",
    "from sklearn import preprocessing\n",
    "from imblearn.over_sampling import RandomOverSampler\n",
    "from sklearn.model_selection import train_test_split\n",
    "from umap import UMAP\n",
    "from sklearn.preprocessing import MinMaxScaler\n",
    "\n",
    "\n",
    "\n",
    "#transformers\n",
    "from transformers import RobertaTokenizerFast\n",
    "from transformers import TFRobertaModel\n",
    "from transformers import AutoModel\n",
    "import transformers\n",
    "from transformers import AutoTokenizer, TFAutoModel\n",
    "from datasets import load_dataset\n",
    "from datasets import Dataset\n",
    "from transformers import TFAutoModelForSequenceClassification\n",
    "\n",
    "\n",
    "#keras\n",
    "import tensorflow as tf\n",
    "from tensorflow import keras\n",
    "from tensorflow.keras.optimizers import Adam\n",
    "\n",
    "\n",
    "\n",
    "#metrics\n",
    "from sklearn.metrics import accuracy_score, f1_score\n",
    "from sklearn.metrics import classification_report, confusion_matrix\n",
    "\n",
    "#set seed for reproducibility\n",
    "seed=42\n",
    "\n",
    "# import seaborn as sns\n",
    "\n",
    "# # Set the Seaborn style\n",
    "# sns.set_style(\"whitegrid\")\n",
    "# sns.despine()\n",
    "# plt.style.use(\"seaborn-whitegrid\")\n",
    "# plt.rc(\"figure\", autolayout=True)\n",
    "# plt.rc(\"axes\", labelweight=\"bold\", labelsize=\"large\", titleweight=\"bold\", titlepad=10)"
   ]
  },
  {
   "cell_type": "code",
   "execution_count": 2,
   "metadata": {},
   "outputs": [
    {
     "data": {
      "text/plain": [
       "[PhysicalDevice(name='/physical_device:GPU:0', device_type='GPU')]"
      ]
     },
     "execution_count": 2,
     "metadata": {},
     "output_type": "execute_result"
    }
   ],
   "source": [
    "import tensorflow as tf\n",
    "tf.config.list_physical_devices('GPU')"
   ]
  },
  {
   "cell_type": "code",
   "execution_count": 3,
   "metadata": {
    "id": "vaTzFqI5aknn"
   },
   "outputs": [],
   "source": [
    "# load data\n",
    "data_reviews = pd.read_csv(\"d:\\Project\\SMART_buisness_test_task\\Tasks\\Task3\\Desktop\\dataset\\order_reviews.csv\")\n",
    "data_order = pd.read_csv(\"d:\\Project\\SMART_buisness_test_task\\Tasks\\Task3\\Desktop\\dataset\\order_items.csv\")\n"
   ]
  },
  {
   "cell_type": "markdown",
   "metadata": {},
   "source": [
    "# Merge data"
   ]
  },
  {
   "cell_type": "markdown",
   "metadata": {
    "id": "s-Sabw-RfLbP"
   },
   "source": [
    "**Now we need merge data by order_id**\n"
   ]
  },
  {
   "cell_type": "code",
   "execution_count": 4,
   "metadata": {
    "id": "92zoZmCZfCKp"
   },
   "outputs": [],
   "source": [
    "# Merging daata reviews with data_order\n",
    "\n",
    "merged_data = data_reviews.merge(data_order, on=\"order_id\", how=\"inner\")"
   ]
  },
  {
   "cell_type": "code",
   "execution_count": 5,
   "metadata": {
    "colab": {
     "base_uri": "https://localhost:8080/",
     "height": 243
    },
    "id": "o2YYFdXVfujI",
    "outputId": "e4bdf061-a2c5-4cf3-80bc-ae37fbf995ea"
   },
   "outputs": [
    {
     "data": {
      "text/html": [
       "<div>\n",
       "<style scoped>\n",
       "    .dataframe tbody tr th:only-of-type {\n",
       "        vertical-align: middle;\n",
       "    }\n",
       "\n",
       "    .dataframe tbody tr th {\n",
       "        vertical-align: top;\n",
       "    }\n",
       "\n",
       "    .dataframe thead th {\n",
       "        text-align: right;\n",
       "    }\n",
       "</style>\n",
       "<table border=\"1\" class=\"dataframe\">\n",
       "  <thead>\n",
       "    <tr style=\"text-align: right;\">\n",
       "      <th></th>\n",
       "      <th>review_id</th>\n",
       "      <th>order_id</th>\n",
       "      <th>review_score</th>\n",
       "      <th>review_comment_title</th>\n",
       "      <th>review_comment_message</th>\n",
       "      <th>review_creation_date</th>\n",
       "      <th>review_answer_timestamp</th>\n",
       "      <th>order_item_id</th>\n",
       "      <th>product_id</th>\n",
       "      <th>seller_id</th>\n",
       "      <th>shipping_limit_date</th>\n",
       "      <th>price</th>\n",
       "      <th>freight_value</th>\n",
       "    </tr>\n",
       "  </thead>\n",
       "  <tbody>\n",
       "    <tr>\n",
       "      <th>0</th>\n",
       "      <td>7bc2406110b926393aa56f80a40eba40</td>\n",
       "      <td>73fc7af87114b39712e6da79b0a377eb</td>\n",
       "      <td>4</td>\n",
       "      <td>NaN</td>\n",
       "      <td>NaN</td>\n",
       "      <td>2018-01-18 00:00:00</td>\n",
       "      <td>2018-01-18 21:46:59</td>\n",
       "      <td>1</td>\n",
       "      <td>fd25ab760bfbba13c198fa3b4f1a0cd3</td>\n",
       "      <td>6d803cb79cc31c41c4c789a75933b3c7</td>\n",
       "      <td>2018-01-18 15:47:59</td>\n",
       "      <td>185.00</td>\n",
       "      <td>13.63</td>\n",
       "    </tr>\n",
       "    <tr>\n",
       "      <th>1</th>\n",
       "      <td>7bc2406110b926393aa56f80a40eba40</td>\n",
       "      <td>73fc7af87114b39712e6da79b0a377eb</td>\n",
       "      <td>4</td>\n",
       "      <td>NaN</td>\n",
       "      <td>NaN</td>\n",
       "      <td>2018-01-18 00:00:00</td>\n",
       "      <td>2018-01-18 21:46:59</td>\n",
       "      <td>2</td>\n",
       "      <td>fd25ab760bfbba13c198fa3b4f1a0cd3</td>\n",
       "      <td>6d803cb79cc31c41c4c789a75933b3c7</td>\n",
       "      <td>2018-01-18 15:47:59</td>\n",
       "      <td>185.00</td>\n",
       "      <td>13.63</td>\n",
       "    </tr>\n",
       "    <tr>\n",
       "      <th>2</th>\n",
       "      <td>80e641a11e56f04c1ad469d5645fdfde</td>\n",
       "      <td>a548910a1c6147796b98fdf73dbeba33</td>\n",
       "      <td>5</td>\n",
       "      <td>NaN</td>\n",
       "      <td>NaN</td>\n",
       "      <td>2018-03-10 00:00:00</td>\n",
       "      <td>2018-03-11 03:05:13</td>\n",
       "      <td>1</td>\n",
       "      <td>be0dbdc3d67d55727a65d4cd696ca73c</td>\n",
       "      <td>8e6d7754bc7e0f22c96d255ebda59eba</td>\n",
       "      <td>2018-03-06 12:48:39</td>\n",
       "      <td>79.79</td>\n",
       "      <td>8.30</td>\n",
       "    </tr>\n",
       "    <tr>\n",
       "      <th>3</th>\n",
       "      <td>228ce5500dc1d8e020d8d1322874b6f0</td>\n",
       "      <td>f9e4b658b201a9f2ecdecbb34bed034b</td>\n",
       "      <td>5</td>\n",
       "      <td>NaN</td>\n",
       "      <td>NaN</td>\n",
       "      <td>2018-02-17 00:00:00</td>\n",
       "      <td>2018-02-18 14:36:24</td>\n",
       "      <td>1</td>\n",
       "      <td>d1c427060a0f73f6b889a5c7c61f2ac4</td>\n",
       "      <td>a1043bafd471dff536d0c462352beb48</td>\n",
       "      <td>2018-02-08 10:31:15</td>\n",
       "      <td>149.00</td>\n",
       "      <td>45.12</td>\n",
       "    </tr>\n",
       "    <tr>\n",
       "      <th>4</th>\n",
       "      <td>e64fb393e7b32834bb789ff8bb30750e</td>\n",
       "      <td>658677c97b385a9be170737859d3511b</td>\n",
       "      <td>5</td>\n",
       "      <td>NaN</td>\n",
       "      <td>Recebi bem antes do prazo estipulado.</td>\n",
       "      <td>2017-04-21 00:00:00</td>\n",
       "      <td>2017-04-21 22:02:06</td>\n",
       "      <td>1</td>\n",
       "      <td>52c80cedd4e90108bf4fa6a206ef6b03</td>\n",
       "      <td>a1043bafd471dff536d0c462352beb48</td>\n",
       "      <td>2017-04-13 17:55:19</td>\n",
       "      <td>179.99</td>\n",
       "      <td>42.85</td>\n",
       "    </tr>\n",
       "  </tbody>\n",
       "</table>\n",
       "</div>"
      ],
      "text/plain": [
       "                          review_id                          order_id  \\\n",
       "0  7bc2406110b926393aa56f80a40eba40  73fc7af87114b39712e6da79b0a377eb   \n",
       "1  7bc2406110b926393aa56f80a40eba40  73fc7af87114b39712e6da79b0a377eb   \n",
       "2  80e641a11e56f04c1ad469d5645fdfde  a548910a1c6147796b98fdf73dbeba33   \n",
       "3  228ce5500dc1d8e020d8d1322874b6f0  f9e4b658b201a9f2ecdecbb34bed034b   \n",
       "4  e64fb393e7b32834bb789ff8bb30750e  658677c97b385a9be170737859d3511b   \n",
       "\n",
       "   review_score review_comment_title                 review_comment_message  \\\n",
       "0             4                  NaN                                    NaN   \n",
       "1             4                  NaN                                    NaN   \n",
       "2             5                  NaN                                    NaN   \n",
       "3             5                  NaN                                    NaN   \n",
       "4             5                  NaN  Recebi bem antes do prazo estipulado.   \n",
       "\n",
       "  review_creation_date review_answer_timestamp  order_item_id  \\\n",
       "0  2018-01-18 00:00:00     2018-01-18 21:46:59              1   \n",
       "1  2018-01-18 00:00:00     2018-01-18 21:46:59              2   \n",
       "2  2018-03-10 00:00:00     2018-03-11 03:05:13              1   \n",
       "3  2018-02-17 00:00:00     2018-02-18 14:36:24              1   \n",
       "4  2017-04-21 00:00:00     2017-04-21 22:02:06              1   \n",
       "\n",
       "                         product_id                         seller_id  \\\n",
       "0  fd25ab760bfbba13c198fa3b4f1a0cd3  6d803cb79cc31c41c4c789a75933b3c7   \n",
       "1  fd25ab760bfbba13c198fa3b4f1a0cd3  6d803cb79cc31c41c4c789a75933b3c7   \n",
       "2  be0dbdc3d67d55727a65d4cd696ca73c  8e6d7754bc7e0f22c96d255ebda59eba   \n",
       "3  d1c427060a0f73f6b889a5c7c61f2ac4  a1043bafd471dff536d0c462352beb48   \n",
       "4  52c80cedd4e90108bf4fa6a206ef6b03  a1043bafd471dff536d0c462352beb48   \n",
       "\n",
       "   shipping_limit_date   price  freight_value  \n",
       "0  2018-01-18 15:47:59  185.00          13.63  \n",
       "1  2018-01-18 15:47:59  185.00          13.63  \n",
       "2  2018-03-06 12:48:39   79.79           8.30  \n",
       "3  2018-02-08 10:31:15  149.00          45.12  \n",
       "4  2017-04-13 17:55:19  179.99          42.85  "
      ]
     },
     "execution_count": 5,
     "metadata": {},
     "output_type": "execute_result"
    }
   ],
   "source": [
    "merged_data.head()"
   ]
  },
  {
   "cell_type": "markdown",
   "metadata": {},
   "source": [
    "# EDA"
   ]
  },
  {
   "cell_type": "markdown",
   "metadata": {
    "id": "pa0geZF4gtC0"
   },
   "source": [
    "Explore data"
   ]
  },
  {
   "cell_type": "code",
   "execution_count": 6,
   "metadata": {
    "id": "8rVE0bj1gAwZ"
   },
   "outputs": [],
   "source": [
    "# Define variable, where all category scores will sum\n",
    "\n",
    "list_score_sum = merged_data[\"review_score\"].value_counts().tolist()"
   ]
  },
  {
   "cell_type": "code",
   "execution_count": 7,
   "metadata": {
    "colab": {
     "base_uri": "https://localhost:8080/"
    },
    "id": "XSNspUsshCYz",
    "outputId": "9f823d19-1e5b-4376-d6e3-83c8a24dbf07"
   },
   "outputs": [
    {
     "name": "stdout",
     "output_type": "stream",
     "text": [
      "score  5  is : 56.14620285557967 %\n",
      "score  4  is : 18.867474982792398 %\n",
      "score  3  is : 13.048657806957168 %\n",
      "score  2  is : 8.422018672455481 %\n",
      "score  1  is : 3.515645682215281 %\n"
     ]
    }
   ],
   "source": [
    "# So what is part of every score?\n",
    "\n",
    "score = 5\n",
    "\n",
    "for i in list_score_sum:\n",
    "    print(\"score \", score, \" is :\", i/len(merged_data[\"review_score\"])*100,\"%\")\n",
    "    score -= 1"
   ]
  },
  {
   "cell_type": "markdown",
   "metadata": {
    "id": "PCHqRx9Ik5tZ"
   },
   "source": [
    "no we see, that data is unbalanced"
   ]
  },
  {
   "cell_type": "markdown",
   "metadata": {
    "id": "dz9UuDcOaUzF"
   },
   "source": [
    "Now check null for null data"
   ]
  },
  {
   "cell_type": "code",
   "execution_count": 8,
   "metadata": {
    "colab": {
     "base_uri": "https://localhost:8080/"
    },
    "id": "0gdxJHlajQAT",
    "outputId": "ca4bd4f3-b5c3-4fdb-d668-0b06e6a7a43f"
   },
   "outputs": [
    {
     "name": "stdout",
     "output_type": "stream",
     "text": [
      "0\n",
      "64730\n"
     ]
    }
   ],
   "source": [
    "# how much nan\n",
    "print(merged_data[\"review_score\"].isna().sum())\n",
    "print(merged_data[\"review_comment_message\"].isna().sum())"
   ]
  },
  {
   "cell_type": "markdown",
   "metadata": {
    "id": "eFhtL203lqRS"
   },
   "source": [
    "Drop nan in columns"
   ]
  },
  {
   "cell_type": "code",
   "execution_count": 9,
   "metadata": {
    "colab": {
     "base_uri": "https://localhost:8080/"
    },
    "id": "3BYp0NbElZVq",
    "outputId": "ecf36dee-79a6-4812-821a-9b2b2d5bbd6a"
   },
   "outputs": [
    {
     "name": "stderr",
     "output_type": "stream",
     "text": [
      "C:\\Users\\KDFX Modes\\AppData\\Local\\Temp\\ipykernel_12280\\3747083339.py:3: SettingWithCopyWarning: \n",
      "A value is trying to be set on a copy of a slice from a DataFrame\n",
      "\n",
      "See the caveats in the documentation: https://pandas.pydata.org/pandas-docs/stable/user_guide/indexing.html#returning-a-view-versus-a-copy\n",
      "  rew_to_score.dropna(inplace=True)\n"
     ]
    }
   ],
   "source": [
    "# Define var with data that contain just 2 columns, and drop null or NA values\n",
    "rew_to_score = merged_data[[\"review_comment_message\", \"review_score\"]]\n",
    "rew_to_score.dropna(inplace=True)"
   ]
  },
  {
   "cell_type": "markdown",
   "metadata": {
    "id": "g40NAWezaz2T"
   },
   "source": [
    "Check again"
   ]
  },
  {
   "cell_type": "code",
   "execution_count": 10,
   "metadata": {
    "colab": {
     "base_uri": "https://localhost:8080/"
    },
    "id": "gzaS30xUm5bq",
    "outputId": "bbee2a70-f12b-4f80-8b00-f587e5fbdc30"
   },
   "outputs": [
    {
     "data": {
      "text/plain": [
       "review_comment_message    0\n",
       "review_score              0\n",
       "dtype: int64"
      ]
     },
     "execution_count": 10,
     "metadata": {},
     "output_type": "execute_result"
    }
   ],
   "source": [
    "rew_to_score.isna().sum()"
   ]
  },
  {
   "cell_type": "markdown",
   "metadata": {
    "id": "nKY-gyLHa-kN"
   },
   "source": [
    "Let's explore data agein"
   ]
  },
  {
   "cell_type": "code",
   "execution_count": 11,
   "metadata": {
    "colab": {
     "base_uri": "https://localhost:8080/"
    },
    "id": "QN7fZd4xnOAL",
    "outputId": "89e165b3-c111-4ae8-d9d6-5e9fd3607e59"
   },
   "outputs": [
    {
     "data": {
      "text/plain": [
       "review_score\n",
       "5    22842\n",
       "1    11682\n",
       "4     6793\n",
       "3     4426\n",
       "2     2849\n",
       "Name: count, dtype: int64"
      ]
     },
     "execution_count": 11,
     "metadata": {},
     "output_type": "execute_result"
    }
   ],
   "source": [
    "# Summing scores\n",
    "rew_to_score[\"review_score\"].value_counts()"
   ]
  },
  {
   "cell_type": "markdown",
   "metadata": {
    "id": "8P-jatd6cG2C"
   },
   "source": [
    "Check balance again"
   ]
  },
  {
   "cell_type": "code",
   "execution_count": 12,
   "metadata": {
    "colab": {
     "base_uri": "https://localhost:8080/"
    },
    "id": "gyWuk_bjncTU",
    "outputId": "57458769-dd66-4505-cbb9-825042aae3e9"
   },
   "outputs": [
    {
     "name": "stdout",
     "output_type": "stream",
     "text": [
      "score is : 47.00773789924268 %\n",
      "score is : 24.04099440237076 %\n",
      "score is : 13.979667434968718 %\n",
      "score is : 9.10849522555153 %\n",
      "score is : 5.863105037866315 %\n"
     ]
    }
   ],
   "source": [
    "list_score_sum = rew_to_score[\"review_score\"].value_counts().tolist()\n",
    "# print % by any score\n",
    "for i in list_score_sum:\n",
    "    print(\"score is :\", i/len(rew_to_score[\"review_score\"])*100,\"%\")"
   ]
  },
  {
   "cell_type": "markdown",
   "metadata": {
    "id": "W7HvVQOEcQse"
   },
   "source": [
    "*As we see, most scores are 5 and 1*. better  discribe it by chart"
   ]
  },
  {
   "cell_type": "code",
   "execution_count": 13,
   "metadata": {
    "colab": {
     "base_uri": "https://localhost:8080/",
     "height": 487
    },
    "id": "FiT5sCgbyv_K",
    "outputId": "7c2aaf4a-9d59-41a2-b6e8-416525282092"
   },
   "outputs": [
    {
     "data": {
      "image/png": "[encoded data removed]",
      "text/plain": [
       "<Figure size 640x480 with 1 Axes>"
      ]
     },
     "metadata": {},
     "output_type": "display_data"
    }
   ],
   "source": [
    "# to display the bar charts by target values\n",
    "rst = rew_to_score['review_score'].value_counts().plot(kind='bar')"
   ]
  },
  {
   "cell_type": "markdown",
   "metadata": {
    "id": "cufgHIe5865p"
   },
   "source": [
    "## **Reviews pre-analysis**"
   ]
  },
  {
   "cell_type": "code",
   "execution_count": 14,
   "metadata": {
    "id": "7_Wk20Yac0eI"
   },
   "outputs": [],
   "source": [
    "rew_to_score = rew_to_score.reset_index().drop(columns=\"index\")"
   ]
  },
  {
   "cell_type": "markdown",
   "metadata": {
    "id": "VVeprt5yk6EW"
   },
   "source": [
    "To know exactly which comments are positive and which are negative, it was decided to conduct a small analysis of the comments themselves\n",
    "since the scores of 1 and 4, 5 are obvious which category they belong to, so I will only look at 2,3"
   ]
  },
  {
   "cell_type": "code",
   "execution_count": 15,
   "metadata": {
    "colab": {
     "base_uri": "https://localhost:8080/",
     "height": 363
    },
    "id": "DoAUgZtwnZ4H",
    "outputId": "78e15b8f-8066-4d5f-d178-38e7697da6f7"
   },
   "outputs": [
    {
     "data": {
      "text/html": [
       "<div>\n",
       "<style scoped>\n",
       "    .dataframe tbody tr th:only-of-type {\n",
       "        vertical-align: middle;\n",
       "    }\n",
       "\n",
       "    .dataframe tbody tr th {\n",
       "        vertical-align: top;\n",
       "    }\n",
       "\n",
       "    .dataframe thead th {\n",
       "        text-align: right;\n",
       "    }\n",
       "</style>\n",
       "<table border=\"1\" class=\"dataframe\">\n",
       "  <thead>\n",
       "    <tr style=\"text-align: right;\">\n",
       "      <th></th>\n",
       "      <th>review_comment_message</th>\n",
       "      <th>review_score</th>\n",
       "    </tr>\n",
       "  </thead>\n",
       "  <tbody>\n",
       "    <tr>\n",
       "      <th>5</th>\n",
       "      <td>GOSTARIA DE SABER O QUE HOUVE, SEMPRE RECEBI E...</td>\n",
       "      <td>2</td>\n",
       "    </tr>\n",
       "    <tr>\n",
       "      <th>67</th>\n",
       "      <td>Demorou de mais pra entrega</td>\n",
       "      <td>2</td>\n",
       "    </tr>\n",
       "    <tr>\n",
       "      <th>133</th>\n",
       "      <td>decepcionado</td>\n",
       "      <td>2</td>\n",
       "    </tr>\n",
       "    <tr>\n",
       "      <th>157</th>\n",
       "      <td>Foi marcado o dia 14/02 para entrega do pedido...</td>\n",
       "      <td>2</td>\n",
       "    </tr>\n",
       "    <tr>\n",
       "      <th>158</th>\n",
       "      <td>LOJA ALÉM DO FRETE SER MUITO CARO . O PRODUTO ...</td>\n",
       "      <td>2</td>\n",
       "    </tr>\n",
       "    <tr>\n",
       "      <th>187</th>\n",
       "      <td>A capa protetora não é exatamente o que eu esp...</td>\n",
       "      <td>2</td>\n",
       "    </tr>\n",
       "    <tr>\n",
       "      <th>196</th>\n",
       "      <td>O produto foi embalado apenas com papel pardo ...</td>\n",
       "      <td>2</td>\n",
       "    </tr>\n",
       "    <tr>\n",
       "      <th>252</th>\n",
       "      <td>comprei o produto na cor preta e chegou na cor...</td>\n",
       "      <td>2</td>\n",
       "    </tr>\n",
       "    <tr>\n",
       "      <th>255</th>\n",
       "      <td>Pensei que a mochila fosse um material mais re...</td>\n",
       "      <td>2</td>\n",
       "    </tr>\n",
       "    <tr>\n",
       "      <th>272</th>\n",
       "      <td>recebi sim mais com defeito os encaixes sao do...</td>\n",
       "      <td>2</td>\n",
       "    </tr>\n",
       "  </tbody>\n",
       "</table>\n",
       "</div>"
      ],
      "text/plain": [
       "                                review_comment_message  review_score\n",
       "5    GOSTARIA DE SABER O QUE HOUVE, SEMPRE RECEBI E...             2\n",
       "67                        Demorou de mais pra entrega              2\n",
       "133                                       decepcionado             2\n",
       "157  Foi marcado o dia 14/02 para entrega do pedido...             2\n",
       "158  LOJA ALÉM DO FRETE SER MUITO CARO . O PRODUTO ...             2\n",
       "187  A capa protetora não é exatamente o que eu esp...             2\n",
       "196  O produto foi embalado apenas com papel pardo ...             2\n",
       "252  comprei o produto na cor preta e chegou na cor...             2\n",
       "255  Pensei que a mochila fosse um material mais re...             2\n",
       "272  recebi sim mais com defeito os encaixes sao do...             2"
      ]
     },
     "execution_count": 15,
     "metadata": {},
     "output_type": "execute_result"
    }
   ],
   "source": [
    "rew_to_score[rew_to_score[\"review_score\"]==2].head(10)"
   ]
  },
  {
   "cell_type": "markdown",
   "metadata": {
    "id": "kmDYFlU3puNX"
   },
   "source": []
  },
  {
   "cell_type": "code",
   "execution_count": 16,
   "metadata": {
    "colab": {
     "base_uri": "https://localhost:8080/",
     "height": 36
    },
    "id": "Zr7pDkk1lj10",
    "outputId": "bea2b1df-e6a4-4610-98ba-5300e14c01be"
   },
   "outputs": [
    {
     "data": {
      "text/plain": [
       "'LOJA ALÉM DO FRETE SER MUITO CARO . O PRODUTO LEVA QUASE 30 DIAS ÚTEIS , PARA CHEGAR NA SUA CASA'"
      ]
     },
     "execution_count": 16,
     "metadata": {},
     "output_type": "execute_result"
    }
   ],
   "source": [
    "rew_to_score.iloc[158,0]"
   ]
  },
  {
   "cell_type": "markdown",
   "metadata": {
    "id": "Jw-KGAZaoSnr"
   },
   "source": [
    "\n",
    "\n",
    "*   GOSTARIA DE SABER O QUE HOUVE, SEMPRE RECEBI E ESSA COMPRA AGORA ME DECPCIONOU\n",
    "*   Demorou de mais pra entrega\n",
    "*   decepcionado\n",
    "*   Foi marcado o dia 14/02 para entrega do pedido e no rastreamento marcava que o produto já havia sido entregue na data mas na realidade não foi entregue. O produto só foi entregue no dia 28/02.\n",
    "*   LOJA ALÉM DO FRETE SER MUITO CARO . O PRODUTO LEVA QUASE 30 DIAS ÚTEIS , PARA CHEGAR NA SUA CASA\n",
    "\n",
    "\n",
    "\n",
    "\n",
    "\n",
    "\n",
    "Demorou de mais pra entrega"
   ]
  },
  {
   "cell_type": "markdown",
   "metadata": {
    "id": "ob_0tgFAnAuR"
   },
   "source": [
    "translate:\n",
    "\n",
    "*   I WOULD LIKE TO KNOW WHAT HAPPENED, I HAVE ALWAYS RECEIVED AND THIS PURCHASE\n",
    "*   Delivery took too long\n",
    "*   disappointed\n",
    "*   The order was scheduled for delivery on February 14 and the tracking showed that the product had already been delivered on that date, but in reality it was not. The product was only delivered on 28/02.\n",
    "*   THE STORE IS VERY EXPENSIVE. THE PRODUCT TAKES ALMOST 30 WORKING DAYS TO ARRIVE AT YOUR HOME\n",
    "\n",
    "\n",
    "\n"
   ]
  },
  {
   "cell_type": "markdown",
   "metadata": {
    "id": "-QnEvkBIqBpu"
   },
   "source": [
    "In fact, I have studied and translated many more samples, but only the first 5 have been posted. it was decided that a score of 2 was negative. problems with delivery time, quality of delivery and price are common"
   ]
  },
  {
   "cell_type": "markdown",
   "metadata": {
    "id": "f05G1PjiqDsD"
   },
   "source": [
    "Let's see reviews that's has score 3"
   ]
  },
  {
   "cell_type": "code",
   "execution_count": 17,
   "metadata": {
    "colab": {
     "base_uri": "https://localhost:8080/",
     "height": 363
    },
    "id": "YnbqDe86qWeY",
    "outputId": "30b1b312-b67a-4400-aa0f-5d72368029e4"
   },
   "outputs": [
    {
     "data": {
      "text/html": [
       "<div>\n",
       "<style scoped>\n",
       "    .dataframe tbody tr th:only-of-type {\n",
       "        vertical-align: middle;\n",
       "    }\n",
       "\n",
       "    .dataframe tbody tr th {\n",
       "        vertical-align: top;\n",
       "    }\n",
       "\n",
       "    .dataframe thead th {\n",
       "        text-align: right;\n",
       "    }\n",
       "</style>\n",
       "<table border=\"1\" class=\"dataframe\">\n",
       "  <thead>\n",
       "    <tr style=\"text-align: right;\">\n",
       "      <th></th>\n",
       "      <th>review_comment_message</th>\n",
       "      <th>review_score</th>\n",
       "    </tr>\n",
       "  </thead>\n",
       "  <tbody>\n",
       "    <tr>\n",
       "      <th>37</th>\n",
       "      <td>Eu comprei duas unidades e só recebi uma e ago...</td>\n",
       "      <td>3</td>\n",
       "    </tr>\n",
       "    <tr>\n",
       "      <th>38</th>\n",
       "      <td>Eu comprei duas unidades e só recebi uma e ago...</td>\n",
       "      <td>3</td>\n",
       "    </tr>\n",
       "    <tr>\n",
       "      <th>39</th>\n",
       "      <td>Produto bom, porém o que veio para mim não con...</td>\n",
       "      <td>3</td>\n",
       "    </tr>\n",
       "    <tr>\n",
       "      <th>44</th>\n",
       "      <td>Entrega no prazo</td>\n",
       "      <td>3</td>\n",
       "    </tr>\n",
       "    <tr>\n",
       "      <th>45</th>\n",
       "      <td>Entrega no prazo</td>\n",
       "      <td>3</td>\n",
       "    </tr>\n",
       "    <tr>\n",
       "      <th>52</th>\n",
       "      <td>Produto chegou, mas meu PC não conseguiu recon...</td>\n",
       "      <td>3</td>\n",
       "    </tr>\n",
       "    <tr>\n",
       "      <th>69</th>\n",
       "      <td>A entrega foi dividida em duas. Não houve comu...</td>\n",
       "      <td>3</td>\n",
       "    </tr>\n",
       "    <tr>\n",
       "      <th>72</th>\n",
       "      <td>Gostei</td>\n",
       "      <td>3</td>\n",
       "    </tr>\n",
       "    <tr>\n",
       "      <th>100</th>\n",
       "      <td>Comprei dois lustres pendentes, com a parceira...</td>\n",
       "      <td>3</td>\n",
       "    </tr>\n",
       "    <tr>\n",
       "      <th>101</th>\n",
       "      <td>Comprei dois lustres pendentes, com a parceira...</td>\n",
       "      <td>3</td>\n",
       "    </tr>\n",
       "  </tbody>\n",
       "</table>\n",
       "</div>"
      ],
      "text/plain": [
       "                                review_comment_message  review_score\n",
       "37   Eu comprei duas unidades e só recebi uma e ago...             3\n",
       "38   Eu comprei duas unidades e só recebi uma e ago...             3\n",
       "39   Produto bom, porém o que veio para mim não con...             3\n",
       "44                                    Entrega no prazo             3\n",
       "45                                    Entrega no prazo             3\n",
       "52   Produto chegou, mas meu PC não conseguiu recon...             3\n",
       "69   A entrega foi dividida em duas. Não houve comu...             3\n",
       "72                                             Gostei              3\n",
       "100  Comprei dois lustres pendentes, com a parceira...             3\n",
       "101  Comprei dois lustres pendentes, com a parceira...             3"
      ]
     },
     "execution_count": 17,
     "metadata": {},
     "output_type": "execute_result"
    }
   ],
   "source": [
    "rew_to_score[rew_to_score[\"review_score\"]==3].head(10)"
   ]
  },
  {
   "cell_type": "code",
   "execution_count": 18,
   "metadata": {
    "colab": {
     "base_uri": "https://localhost:8080/",
     "height": 53
    },
    "id": "cHAXiQsEnhZ6",
    "outputId": "3b8a8296-d368-47a8-ea62-08c1b8c398f6"
   },
   "outputs": [
    {
     "data": {
      "text/plain": [
       "'Comprei dois lustres pendentes, com a parceira targaryen e só me enviaram um lustre. Abri reclamação, mas ainda não recebi resposta. Aguardo solução por parte de Lojas lannister.'"
      ]
     },
     "execution_count": 18,
     "metadata": {},
     "output_type": "execute_result"
    }
   ],
   "source": [
    "rew_to_score.iloc[101,0]"
   ]
  },
  {
   "cell_type": "markdown",
   "metadata": {
    "id": "acnIKc4BqdXH"
   },
   "source": [
    "\n",
    "\n",
    "*   Eu comprei duas unidades e só recebi uma e agora o que faço?\n",
    "*   Produto bom, porém o que veio para mim não condiz com a foto do anúncio.\n",
    "*   Entrega no prazo\n",
    "*   Gostei\n",
    "*   Comprei dois lustres pendentes, com a parceira targaryen e só me enviaram um lustre. Abri reclamação, mas ainda não recebi resposta. Aguardo solução por parte de Lojas lannister.\n",
    "\n",
    "\n",
    "\n",
    "\n"
   ]
  },
  {
   "cell_type": "markdown",
   "metadata": {
    "id": "feIwUNaQnURS"
   },
   "source": [
    "translate\n",
    "\n",
    "*   I bought two units and only received one. What do I do now?\n",
    "*   Good product, but the one that came to me doesn't match the picture in the ad.\n",
    "*   On-time delivery\n",
    "*   I like it\n",
    "*   I bought two pendant chandeliers from targaryen and they only sent me one. I filed a complaint, but have not received a reply yet. I am waiting for a solution from Lojas lannister.\n",
    "\n",
    "\n",
    "\n",
    "\n",
    "\n"
   ]
  },
  {
   "cell_type": "markdown",
   "metadata": {
    "id": "uzdeeJfjr2jB"
   },
   "source": [
    "After deep analysis i desided that data 1,2 - negative, 3 most to positive 4,5 - positive. but let see how think model\n",
    "and drop dupclicate columns"
   ]
  },
  {
   "cell_type": "code",
   "execution_count": 19,
   "metadata": {
    "id": "fovDepINsHXS"
   },
   "outputs": [],
   "source": [
    "# Drop duplicated data\n",
    "rew_to_score_clean = rew_to_score\n",
    "rew_to_score_clean = rew_to_score_clean.drop_duplicates(subset=\"review_comment_message\")"
   ]
  },
  {
   "cell_type": "markdown",
   "metadata": {
    "id": "jRD7uD4OtY2S"
   },
   "source": [
    "What's shape before and after?"
   ]
  },
  {
   "cell_type": "code",
   "execution_count": 20,
   "metadata": {
    "colab": {
     "base_uri": "https://localhost:8080/"
    },
    "id": "3UNqRiboteUV",
    "outputId": "3387bef1-287e-4a90-9b37-0cb4d98eb0ff"
   },
   "outputs": [
    {
     "name": "stdout",
     "output_type": "stream",
     "text": [
      "(48592, 2)\n",
      "(36435, 2)\n"
     ]
    }
   ],
   "source": [
    "print(rew_to_score.shape)\n",
    "print(rew_to_score_clean.shape)"
   ]
  },
  {
   "cell_type": "markdown",
   "metadata": {
    "id": "HeisBod3sqnI"
   },
   "source": [
    "And what we have now?"
   ]
  },
  {
   "cell_type": "code",
   "execution_count": 21,
   "metadata": {
    "colab": {
     "base_uri": "https://localhost:8080/",
     "height": 206
    },
    "id": "575ogPfBsuRj",
    "outputId": "0d6d0488-a62a-4f98-9f8a-4eeedb21784d"
   },
   "outputs": [
    {
     "data": {
      "text/html": [
       "<div>\n",
       "<style scoped>\n",
       "    .dataframe tbody tr th:only-of-type {\n",
       "        vertical-align: middle;\n",
       "    }\n",
       "\n",
       "    .dataframe tbody tr th {\n",
       "        vertical-align: top;\n",
       "    }\n",
       "\n",
       "    .dataframe thead th {\n",
       "        text-align: right;\n",
       "    }\n",
       "</style>\n",
       "<table border=\"1\" class=\"dataframe\">\n",
       "  <thead>\n",
       "    <tr style=\"text-align: right;\">\n",
       "      <th></th>\n",
       "      <th>review_comment_message</th>\n",
       "      <th>review_score</th>\n",
       "    </tr>\n",
       "  </thead>\n",
       "  <tbody>\n",
       "    <tr>\n",
       "      <th>0</th>\n",
       "      <td>Recebi bem antes do prazo estipulado.</td>\n",
       "      <td>5</td>\n",
       "    </tr>\n",
       "    <tr>\n",
       "      <th>1</th>\n",
       "      <td>Parabéns lojas lannister adorei comprar pela I...</td>\n",
       "      <td>5</td>\n",
       "    </tr>\n",
       "    <tr>\n",
       "      <th>2</th>\n",
       "      <td>aparelho eficiente. no site a marca do aparelh...</td>\n",
       "      <td>4</td>\n",
       "    </tr>\n",
       "    <tr>\n",
       "      <th>3</th>\n",
       "      <td>Mas um pouco ,travando...pelo valor ta Boa.\\r\\n</td>\n",
       "      <td>4</td>\n",
       "    </tr>\n",
       "    <tr>\n",
       "      <th>4</th>\n",
       "      <td>Vendedor confiável, produto ok e entrega antes...</td>\n",
       "      <td>5</td>\n",
       "    </tr>\n",
       "  </tbody>\n",
       "</table>\n",
       "</div>"
      ],
      "text/plain": [
       "                              review_comment_message  review_score\n",
       "0              Recebi bem antes do prazo estipulado.             5\n",
       "1  Parabéns lojas lannister adorei comprar pela I...             5\n",
       "2  aparelho eficiente. no site a marca do aparelh...             4\n",
       "3    Mas um pouco ,travando...pelo valor ta Boa.\\r\\n             4\n",
       "4  Vendedor confiável, produto ok e entrega antes...             5"
      ]
     },
     "execution_count": 21,
     "metadata": {},
     "output_type": "execute_result"
    }
   ],
   "source": [
    "rew_to_score_clean.head()"
   ]
  },
  {
   "cell_type": "markdown",
   "metadata": {},
   "source": [
    "## Pre-view  conclusion"
   ]
  },
  {
   "cell_type": "markdown",
   "metadata": {},
   "source": [
    "As you can see from the previous analysis, the comments can be really ambiguous about the evaluation, so we will give this task in full for the XGBoost model"
   ]
  },
  {
   "cell_type": "markdown",
   "metadata": {
    "id": "d7AfhMFn8vZR"
   },
   "source": [
    "# **Data preprocessing**"
   ]
  },
  {
   "cell_type": "markdown",
   "metadata": {
    "id": "of048paXi29u"
   },
   "source": [
    "Our task is to define the comments into positive and negative ones, so after analysis i can label data. where 1 will positive and 0 - negative review"
   ]
  },
  {
   "cell_type": "code",
   "execution_count": 22,
   "metadata": {
    "colab": {
     "base_uri": "https://localhost:8080/"
    },
    "id": "3YvveJcKiyrK",
    "outputId": "2dbcbaab-3217-41ef-f754-723544f048d0"
   },
   "outputs": [
    {
     "name": "stderr",
     "output_type": "stream",
     "text": [
      "C:\\Users\\KDFX Modes\\AppData\\Local\\Temp\\ipykernel_12280\\4267249066.py:2: SettingWithCopyWarning: \n",
      "A value is trying to be set on a copy of a slice from a DataFrame.\n",
      "Try using .loc[row_indexer,col_indexer] = value instead\n",
      "\n",
      "See the caveats in the documentation: https://pandas.pydata.org/pandas-docs/stable/user_guide/indexing.html#returning-a-view-versus-a-copy\n",
      "  rew_to_score_clean[\"labels\"] = rew_to_score_clean[\"review_score\"].apply(lambda x:\n"
     ]
    }
   ],
   "source": [
    "# add column with label data where 1 - positive, 0 - negative\n",
    "rew_to_score_clean[\"labels\"] = rew_to_score_clean[\"review_score\"].apply(lambda x:\n",
    "                                                              0 if x==1 else\n",
    "                                                               (1 if x == 5 else None))"
   ]
  },
  {
   "cell_type": "markdown",
   "metadata": {
    "id": "HBOegDMsw4NI"
   },
   "source": [
    "Let's see,what we have now"
   ]
  },
  {
   "cell_type": "code",
   "execution_count": 23,
   "metadata": {
    "colab": {
     "base_uri": "https://localhost:8080/",
     "height": 423
    },
    "id": "pURNJLdsw26p",
    "outputId": "d8b82f38-c385-4770-c64a-223abd831d6b"
   },
   "outputs": [
    {
     "data": {
      "text/html": [
       "<div>\n",
       "<style scoped>\n",
       "    .dataframe tbody tr th:only-of-type {\n",
       "        vertical-align: middle;\n",
       "    }\n",
       "\n",
       "    .dataframe tbody tr th {\n",
       "        vertical-align: top;\n",
       "    }\n",
       "\n",
       "    .dataframe thead th {\n",
       "        text-align: right;\n",
       "    }\n",
       "</style>\n",
       "<table border=\"1\" class=\"dataframe\">\n",
       "  <thead>\n",
       "    <tr style=\"text-align: right;\">\n",
       "      <th></th>\n",
       "      <th>review_comment_message</th>\n",
       "      <th>review_score</th>\n",
       "      <th>labels</th>\n",
       "    </tr>\n",
       "  </thead>\n",
       "  <tbody>\n",
       "    <tr>\n",
       "      <th>0</th>\n",
       "      <td>Recebi bem antes do prazo estipulado.</td>\n",
       "      <td>5</td>\n",
       "      <td>1.0</td>\n",
       "    </tr>\n",
       "    <tr>\n",
       "      <th>1</th>\n",
       "      <td>Parabéns lojas lannister adorei comprar pela I...</td>\n",
       "      <td>5</td>\n",
       "      <td>1.0</td>\n",
       "    </tr>\n",
       "    <tr>\n",
       "      <th>2</th>\n",
       "      <td>aparelho eficiente. no site a marca do aparelh...</td>\n",
       "      <td>4</td>\n",
       "      <td>NaN</td>\n",
       "    </tr>\n",
       "    <tr>\n",
       "      <th>3</th>\n",
       "      <td>Mas um pouco ,travando...pelo valor ta Boa.\\r\\n</td>\n",
       "      <td>4</td>\n",
       "      <td>NaN</td>\n",
       "    </tr>\n",
       "    <tr>\n",
       "      <th>4</th>\n",
       "      <td>Vendedor confiável, produto ok e entrega antes...</td>\n",
       "      <td>5</td>\n",
       "      <td>1.0</td>\n",
       "    </tr>\n",
       "    <tr>\n",
       "      <th>...</th>\n",
       "      <td>...</td>\n",
       "      <td>...</td>\n",
       "      <td>...</td>\n",
       "    </tr>\n",
       "    <tr>\n",
       "      <th>48587</th>\n",
       "      <td>Entregou dentro do prazo. O produto chegou em ...</td>\n",
       "      <td>5</td>\n",
       "      <td>1.0</td>\n",
       "    </tr>\n",
       "    <tr>\n",
       "      <th>48588</th>\n",
       "      <td>O produto não foi enviado com NF, não existe v...</td>\n",
       "      <td>3</td>\n",
       "      <td>NaN</td>\n",
       "    </tr>\n",
       "    <tr>\n",
       "      <th>48589</th>\n",
       "      <td>Excelente mochila, entrega super rápida. Super...</td>\n",
       "      <td>5</td>\n",
       "      <td>1.0</td>\n",
       "    </tr>\n",
       "    <tr>\n",
       "      <th>48590</th>\n",
       "      <td>Solicitei a compra de uma capa de retrovisor c...</td>\n",
       "      <td>1</td>\n",
       "      <td>0.0</td>\n",
       "    </tr>\n",
       "    <tr>\n",
       "      <th>48591</th>\n",
       "      <td>meu produto chegou e ja tenho que devolver, po...</td>\n",
       "      <td>1</td>\n",
       "      <td>0.0</td>\n",
       "    </tr>\n",
       "  </tbody>\n",
       "</table>\n",
       "<p>36435 rows × 3 columns</p>\n",
       "</div>"
      ],
      "text/plain": [
       "                                  review_comment_message  review_score  labels\n",
       "0                  Recebi bem antes do prazo estipulado.             5     1.0\n",
       "1      Parabéns lojas lannister adorei comprar pela I...             5     1.0\n",
       "2      aparelho eficiente. no site a marca do aparelh...             4     NaN\n",
       "3        Mas um pouco ,travando...pelo valor ta Boa.\\r\\n             4     NaN\n",
       "4      Vendedor confiável, produto ok e entrega antes...             5     1.0\n",
       "...                                                  ...           ...     ...\n",
       "48587  Entregou dentro do prazo. O produto chegou em ...             5     1.0\n",
       "48588  O produto não foi enviado com NF, não existe v...             3     NaN\n",
       "48589  Excelente mochila, entrega super rápida. Super...             5     1.0\n",
       "48590  Solicitei a compra de uma capa de retrovisor c...             1     0.0\n",
       "48591  meu produto chegou e ja tenho que devolver, po...             1     0.0\n",
       "\n",
       "[36435 rows x 3 columns]"
      ]
     },
     "execution_count": 23,
     "metadata": {},
     "output_type": "execute_result"
    }
   ],
   "source": [
    "rew_to_score_clean"
   ]
  },
  {
   "cell_type": "markdown",
   "metadata": {
    "id": "k7z9A9xAxD47"
   },
   "source": [
    "Now, we can check data balance again by labels"
   ]
  },
  {
   "cell_type": "code",
   "execution_count": 24,
   "metadata": {
    "id": "K3l6lfWUxKvy"
   },
   "outputs": [],
   "source": [
    "label_data = rew_to_score_clean.drop(columns=\"review_score\").dropna(subset=[\"labels\"])"
   ]
  },
  {
   "cell_type": "code",
   "execution_count": 25,
   "metadata": {
    "colab": {
     "base_uri": "https://localhost:8080/",
     "height": 206
    },
    "id": "5tLkb8IRxXCa",
    "outputId": "9b907697-a581-424c-9e95-a42c9a09248e"
   },
   "outputs": [
    {
     "data": {
      "text/html": [
       "<div>\n",
       "<style scoped>\n",
       "    .dataframe tbody tr th:only-of-type {\n",
       "        vertical-align: middle;\n",
       "    }\n",
       "\n",
       "    .dataframe tbody tr th {\n",
       "        vertical-align: top;\n",
       "    }\n",
       "\n",
       "    .dataframe thead th {\n",
       "        text-align: right;\n",
       "    }\n",
       "</style>\n",
       "<table border=\"1\" class=\"dataframe\">\n",
       "  <thead>\n",
       "    <tr style=\"text-align: right;\">\n",
       "      <th></th>\n",
       "      <th>review_comment_message</th>\n",
       "      <th>labels</th>\n",
       "    </tr>\n",
       "  </thead>\n",
       "  <tbody>\n",
       "    <tr>\n",
       "      <th>0</th>\n",
       "      <td>Recebi bem antes do prazo estipulado.</td>\n",
       "      <td>1.0</td>\n",
       "    </tr>\n",
       "    <tr>\n",
       "      <th>1</th>\n",
       "      <td>Parabéns lojas lannister adorei comprar pela I...</td>\n",
       "      <td>1.0</td>\n",
       "    </tr>\n",
       "    <tr>\n",
       "      <th>4</th>\n",
       "      <td>Vendedor confiável, produto ok e entrega antes...</td>\n",
       "      <td>1.0</td>\n",
       "    </tr>\n",
       "    <tr>\n",
       "      <th>6</th>\n",
       "      <td>Péssimo</td>\n",
       "      <td>0.0</td>\n",
       "    </tr>\n",
       "    <tr>\n",
       "      <th>7</th>\n",
       "      <td>Loja nota 10</td>\n",
       "      <td>1.0</td>\n",
       "    </tr>\n",
       "  </tbody>\n",
       "</table>\n",
       "</div>"
      ],
      "text/plain": [
       "                              review_comment_message  labels\n",
       "0              Recebi bem antes do prazo estipulado.     1.0\n",
       "1  Parabéns lojas lannister adorei comprar pela I...     1.0\n",
       "4  Vendedor confiável, produto ok e entrega antes...     1.0\n",
       "6                                            Péssimo     0.0\n",
       "7                                       Loja nota 10     1.0"
      ]
     },
     "execution_count": 25,
     "metadata": {},
     "output_type": "execute_result"
    }
   ],
   "source": [
    "label_data.head()"
   ]
  },
  {
   "cell_type": "markdown",
   "metadata": {
    "id": "lj1qyou3W3gQ"
   },
   "source": [
    "## Clean reviews by custom funtion"
   ]
  },
  {
   "cell_type": "markdown",
   "metadata": {},
   "source": [
    "### Function cleaning from emoji, hashtags, filter by chars, removing multi-space"
   ]
  },
  {
   "cell_type": "code",
   "execution_count": 26,
   "metadata": {
    "id": "JPc9UdF0W2Zo"
   },
   "outputs": [],
   "source": [
    "##CUSTOM DEFINED FUNCTIONS TO CLEAN THE TWEETS\n",
    "\n",
    "#Clean emojis from text\n",
    "def strip_emoji(text):\n",
    "    return re.sub(emoji.get_emoji_regexp(), r\"\", text) #remove emoji\n",
    "\n",
    "#Remove punctuations, links, mentions and \\r\\n new line characters\n",
    "def strip_all_entities(text):\n",
    "    text = text.replace('\\r', '').replace('\\n', ' ').replace('\\n', ' ').lower() #remove \\n and \\r and lowercase\n",
    "    text = re.sub(r\"(?:\\@|https?\\://)\\S+\", \"\", text) #remove links and mentions\n",
    "    text = re.sub(r'[^\\x00-\\x7f]',r'', text) #remove non utf8/ascii characters such as '\\x9a\\x91\\x97\\x9a\\x97'\n",
    "    banned_list= string.punctuation + 'Ã'+'±'+'ã'+'¼'+'â'+'»'+'§'\n",
    "    table = str.maketrans('', '', banned_list)\n",
    "    text = text.translate(table)\n",
    "    return text\n",
    "\n",
    "#clean hashtags at the end of the sentence, and keep those in the middle of the sentence by removing just the # symbol\n",
    "def clean_hashtags(tweet):\n",
    "    new_tweet = \" \".join(word.strip() for word in re.split('#(?!(?:hashtag)\\b)[\\w-]+(?=(?:\\s+#[\\w-]+)*\\s*$)', tweet)) #remove last hashtags\n",
    "    new_tweet2 = \" \".join(word.strip() for word in re.split('#|_', new_tweet)) #remove hashtags symbol from words in the middle of the sentence\n",
    "    return new_tweet2\n",
    "\n",
    "#Filter special characters such as & and $ present in some words\n",
    "def filter_chars(a):\n",
    "    sent = []\n",
    "    for word in a.split(' '):\n",
    "        if ('$' in word) | ('&' in word):\n",
    "            sent.append('')\n",
    "        else:\n",
    "            sent.append(word)\n",
    "    return ' '.join(sent)\n",
    "\n",
    "def remove_mult_spaces(text): # remove multiple spaces\n",
    "    return re.sub(\"\\s\\s+\" , \" \", text)"
   ]
  },
  {
   "cell_type": "code",
   "execution_count": 27,
   "metadata": {
    "id": "y3M9wWtnYr9b"
   },
   "outputs": [],
   "source": [
    "reviews_new = []\n",
    "for t in label_data.review_comment_message:\n",
    "    reviews_new.append(remove_mult_spaces(filter_chars(clean_hashtags \\\n",
    "                                        (strip_all_entities(strip_emoji(t))))))"
   ]
  },
  {
   "cell_type": "code",
   "execution_count": 28,
   "metadata": {
    "id": "ZGOlIh1eamLL"
   },
   "outputs": [],
   "source": [
    "label_data[\"review_comment_message\"] = reviews_new"
   ]
  },
  {
   "cell_type": "code",
   "execution_count": 29,
   "metadata": {
    "colab": {
     "base_uri": "https://localhost:8080/"
    },
    "id": "PyF7TxiZbEar",
    "outputId": "b187795a-e8a0-4a90-98e2-3cb72e1c39a6"
   },
   "outputs": [
    {
     "data": {
      "text/plain": [
       "0                 recebi bem antes do prazo estipulado\n",
       "1    parabns lojas lannister adorei comprar pela in...\n",
       "4    vendedor confivel produto ok e entrega antes d...\n",
       "6                                               pssimo\n",
       "7                                         loja nota 10\n",
       "Name: review_comment_message, dtype: object"
      ]
     },
     "execution_count": 29,
     "metadata": {},
     "output_type": "execute_result"
    }
   ],
   "source": [
    "label_data[\"review_comment_message\"].head()"
   ]
  },
  {
   "cell_type": "markdown",
   "metadata": {
    "id": "WZlK1WMDRAB7"
   },
   "source": [
    "## Class Balancing by RandomOverSampler"
   ]
  },
  {
   "cell_type": "code",
   "execution_count": 30,
   "metadata": {
    "colab": {
     "base_uri": "https://localhost:8080/"
    },
    "id": "04JA8lYnxhd1",
    "outputId": "b2400f3d-f90c-4e8e-c13c-7de67dfeabce"
   },
   "outputs": [
    {
     "data": {
      "text/plain": [
       "labels\n",
       "1.0    17434\n",
       "0.0     8426\n",
       "Name: count, dtype: int64"
      ]
     },
     "execution_count": 30,
     "metadata": {},
     "output_type": "execute_result"
    }
   ],
   "source": [
    "label_data[\"labels\"].value_counts()"
   ]
  },
  {
   "cell_type": "markdown",
   "metadata": {
    "id": "WabN2u-kyKWk"
   },
   "source": [
    "As we see data is still unbalanced, so we equal it by RandomOverSampler"
   ]
  },
  {
   "cell_type": "code",
   "execution_count": 31,
   "metadata": {
    "colab": {
     "base_uri": "https://localhost:8080/"
    },
    "id": "rdgX2ic4c0bV",
    "outputId": "fd58f9d1-eeab-4e92-84fa-205c0b89dd0b"
   },
   "outputs": [
    {
     "data": {
      "text/plain": [
       "Index(['review_comment_message', 'labels'], dtype='object')"
      ]
     },
     "execution_count": 31,
     "metadata": {},
     "output_type": "execute_result"
    }
   ],
   "source": [
    "label_data.columns"
   ]
  },
  {
   "cell_type": "code",
   "execution_count": 32,
   "metadata": {
    "colab": {
     "base_uri": "https://localhost:8080/"
    },
    "id": "5MNvWZnA2XI5",
    "outputId": "2fc69464-3002-4745-e924-4ff60219b26a"
   },
   "outputs": [
    {
     "data": {
      "text/plain": [
       "(25860, 2)"
      ]
     },
     "execution_count": 32,
     "metadata": {},
     "output_type": "execute_result"
    }
   ],
   "source": [
    "label_data.shape"
   ]
  },
  {
   "cell_type": "code",
   "execution_count": 33,
   "metadata": {
    "id": "2Err2N5DRHFX"
   },
   "outputs": [],
   "source": [
    "# AutoSampling\n",
    "ros = RandomOverSampler(random_state=42)\n",
    "sampled_x, sampled_y = ros.fit_resample(np.array(label_data['review_comment_message'])\n",
    "                .reshape(-1, 1), np.array(label_data['labels']).reshape(-1, 1))\n",
    "train_os = pd.DataFrame(list(zip([x[0] for x in sampled_x],sampled_y)), columns=\n",
    "                                            ['review_comment_message','labels'])"
   ]
  },
  {
   "cell_type": "markdown",
   "metadata": {
    "id": "Zpd1hRLxS8BI"
   },
   "source": [
    "Check out dataframe"
   ]
  },
  {
   "cell_type": "code",
   "execution_count": 34,
   "metadata": {
    "colab": {
     "base_uri": "https://localhost:8080/",
     "height": 363
    },
    "id": "4-0DQcp0SvQp",
    "outputId": "c40b5075-9162-4acf-e135-4e777e16e7b7"
   },
   "outputs": [
    {
     "data": {
      "text/html": [
       "<div>\n",
       "<style scoped>\n",
       "    .dataframe tbody tr th:only-of-type {\n",
       "        vertical-align: middle;\n",
       "    }\n",
       "\n",
       "    .dataframe tbody tr th {\n",
       "        vertical-align: top;\n",
       "    }\n",
       "\n",
       "    .dataframe thead th {\n",
       "        text-align: right;\n",
       "    }\n",
       "</style>\n",
       "<table border=\"1\" class=\"dataframe\">\n",
       "  <thead>\n",
       "    <tr style=\"text-align: right;\">\n",
       "      <th></th>\n",
       "      <th>review_comment_message</th>\n",
       "      <th>labels</th>\n",
       "    </tr>\n",
       "  </thead>\n",
       "  <tbody>\n",
       "    <tr>\n",
       "      <th>0</th>\n",
       "      <td>recebi bem antes do prazo estipulado</td>\n",
       "      <td>1.0</td>\n",
       "    </tr>\n",
       "    <tr>\n",
       "      <th>1</th>\n",
       "      <td>parabns lojas lannister adorei comprar pela in...</td>\n",
       "      <td>1.0</td>\n",
       "    </tr>\n",
       "    <tr>\n",
       "      <th>2</th>\n",
       "      <td>vendedor confivel produto ok e entrega antes d...</td>\n",
       "      <td>1.0</td>\n",
       "    </tr>\n",
       "    <tr>\n",
       "      <th>3</th>\n",
       "      <td>pssimo</td>\n",
       "      <td>0.0</td>\n",
       "    </tr>\n",
       "    <tr>\n",
       "      <th>4</th>\n",
       "      <td>loja nota 10</td>\n",
       "      <td>1.0</td>\n",
       "    </tr>\n",
       "    <tr>\n",
       "      <th>5</th>\n",
       "      <td>obrigado pela atenao amim dispensada</td>\n",
       "      <td>1.0</td>\n",
       "    </tr>\n",
       "    <tr>\n",
       "      <th>6</th>\n",
       "      <td>a compra foi realizada facilmente a entrega fo...</td>\n",
       "      <td>1.0</td>\n",
       "    </tr>\n",
       "    <tr>\n",
       "      <th>7</th>\n",
       "      <td>relgio muito bonito e barato</td>\n",
       "      <td>1.0</td>\n",
       "    </tr>\n",
       "    <tr>\n",
       "      <th>8</th>\n",
       "      <td>no gostei comprei gato por lebre</td>\n",
       "      <td>0.0</td>\n",
       "    </tr>\n",
       "    <tr>\n",
       "      <th>9</th>\n",
       "      <td>sempre compro pela internet e a entrega ocorre...</td>\n",
       "      <td>0.0</td>\n",
       "    </tr>\n",
       "  </tbody>\n",
       "</table>\n",
       "</div>"
      ],
      "text/plain": [
       "                              review_comment_message  labels\n",
       "0               recebi bem antes do prazo estipulado     1.0\n",
       "1  parabns lojas lannister adorei comprar pela in...     1.0\n",
       "2  vendedor confivel produto ok e entrega antes d...     1.0\n",
       "3                                             pssimo     0.0\n",
       "4                                       loja nota 10     1.0\n",
       "5               obrigado pela atenao amim dispensada     1.0\n",
       "6  a compra foi realizada facilmente a entrega fo...     1.0\n",
       "7                       relgio muito bonito e barato     1.0\n",
       "8                   no gostei comprei gato por lebre     0.0\n",
       "9  sempre compro pela internet e a entrega ocorre...     0.0"
      ]
     },
     "execution_count": 34,
     "metadata": {},
     "output_type": "execute_result"
    }
   ],
   "source": [
    "train_os.head(10)"
   ]
  },
  {
   "cell_type": "markdown",
   "metadata": {
    "id": "rmRYaQBJTEK1"
   },
   "source": [
    "Check classes"
   ]
  },
  {
   "cell_type": "code",
   "execution_count": 35,
   "metadata": {
    "colab": {
     "base_uri": "https://localhost:8080/"
    },
    "id": "OiZ1xpMgTJOZ",
    "outputId": "ab4444db-83c2-4e02-d3fd-07f4920ad9c0"
   },
   "outputs": [
    {
     "data": {
      "text/plain": [
       "labels\n",
       "1.0    17434\n",
       "0.0    17434\n",
       "Name: count, dtype: int64"
      ]
     },
     "execution_count": 35,
     "metadata": {},
     "output_type": "execute_result"
    }
   ],
   "source": [
    "train_os[\"labels\"].value_counts()"
   ]
  },
  {
   "cell_type": "markdown",
   "metadata": {
    "id": "WQEuPHJl7sT_"
   },
   "source": [
    "Split into train test set's"
   ]
  },
  {
   "cell_type": "code",
   "execution_count": 36,
   "metadata": {
    "id": "mi7dKgh97r7K"
   },
   "outputs": [],
   "source": [
    "train, test = train_test_split(train_os,train_size=0.8,test_size=0.2, shuffle=True,\n",
    "                                                               random_state=42)"
   ]
  },
  {
   "cell_type": "markdown",
   "metadata": {
    "id": "Dg6PSS5DyBCN"
   },
   "source": [
    "test data to validation"
   ]
  },
  {
   "cell_type": "code",
   "execution_count": 37,
   "metadata": {
    "colab": {
     "base_uri": "https://localhost:8080/",
     "height": 206
    },
    "id": "3H4HMzaJ-HR9",
    "outputId": "06fbc69a-d5b6-42b6-ca90-69b8c4446e96"
   },
   "outputs": [
    {
     "data": {
      "text/html": [
       "<div>\n",
       "<style scoped>\n",
       "    .dataframe tbody tr th:only-of-type {\n",
       "        vertical-align: middle;\n",
       "    }\n",
       "\n",
       "    .dataframe tbody tr th {\n",
       "        vertical-align: top;\n",
       "    }\n",
       "\n",
       "    .dataframe thead th {\n",
       "        text-align: right;\n",
       "    }\n",
       "</style>\n",
       "<table border=\"1\" class=\"dataframe\">\n",
       "  <thead>\n",
       "    <tr style=\"text-align: right;\">\n",
       "      <th></th>\n",
       "      <th>review_comment_message</th>\n",
       "      <th>labels</th>\n",
       "    </tr>\n",
       "  </thead>\n",
       "  <tbody>\n",
       "    <tr>\n",
       "      <th>19137</th>\n",
       "      <td>produto com preo acessvel e entrega rapida</td>\n",
       "      <td>1.0</td>\n",
       "    </tr>\n",
       "    <tr>\n",
       "      <th>5096</th>\n",
       "      <td>produto entregue antes do prazo e em perfeito ...</td>\n",
       "      <td>1.0</td>\n",
       "    </tr>\n",
       "    <tr>\n",
       "      <th>29952</th>\n",
       "      <td>entregou o pedido muito tempo depois e errado ...</td>\n",
       "      <td>0.0</td>\n",
       "    </tr>\n",
       "    <tr>\n",
       "      <th>18430</th>\n",
       "      <td>o produto chegou at antes do prazoestou satisf...</td>\n",
       "      <td>1.0</td>\n",
       "    </tr>\n",
       "    <tr>\n",
       "      <th>32325</th>\n",
       "      <td>comprei e at agora nada de chegar prazo pro di...</td>\n",
       "      <td>0.0</td>\n",
       "    </tr>\n",
       "  </tbody>\n",
       "</table>\n",
       "</div>"
      ],
      "text/plain": [
       "                                  review_comment_message  labels\n",
       "19137         produto com preo acessvel e entrega rapida     1.0\n",
       "5096   produto entregue antes do prazo e em perfeito ...     1.0\n",
       "29952  entregou o pedido muito tempo depois e errado ...     0.0\n",
       "18430  o produto chegou at antes do prazoestou satisf...     1.0\n",
       "32325  comprei e at agora nada de chegar prazo pro di...     0.0"
      ]
     },
     "execution_count": 37,
     "metadata": {},
     "output_type": "execute_result"
    }
   ],
   "source": [
    "train.head()"
   ]
  },
  {
   "cell_type": "markdown",
   "metadata": {
    "id": "Gc-tfA7X2uF1"
   },
   "source": [
    "Convert into dict"
   ]
  },
  {
   "cell_type": "code",
   "execution_count": 38,
   "metadata": {
    "id": "tlP3KPRZ7pVt"
   },
   "outputs": [],
   "source": [
    "train_ = pd.DataFrame(train)\n",
    "test_ = pd.DataFrame(test)\n",
    "train_data = Dataset.from_pandas(train_)\n",
    "test_data = Dataset.from_pandas(test_)"
   ]
  },
  {
   "cell_type": "code",
   "execution_count": 39,
   "metadata": {
    "colab": {
     "base_uri": "https://localhost:8080/"
    },
    "id": "0ezMrQQN-KQ7",
    "outputId": "a5f4458e-65e9-46d9-aa4e-b948aec5fff2"
   },
   "outputs": [
    {
     "data": {
      "text/plain": [
       "{'review_comment_message': ['produto com preo acessvel e entrega rapida',\n",
       "  'produto entregue antes do prazo e em perfeito estado',\n",
       "  'entregou o pedido muito tempo depois e errado ainda como se ja no bastasse a dor de cabea de ficar correndo atrs de uma loja incomuicvel ainda tenho a decepo de no receber o que comprei'],\n",
       " 'labels': [1.0, 1.0, 0.0],\n",
       " '__index_level_0__': [19137, 5096, 29952]}"
      ]
     },
     "execution_count": 39,
     "metadata": {},
     "output_type": "execute_result"
    }
   ],
   "source": [
    "train_data[:3]"
   ]
  },
  {
   "cell_type": "code",
   "execution_count": 40,
   "metadata": {
    "colab": {
     "base_uri": "https://localhost:8080/"
    },
    "id": "DH6XH9k9-VZ4",
    "outputId": "519dd185-6af3-435b-8e83-0cbddd30cc70"
   },
   "outputs": [
    {
     "data": {
      "text/plain": [
       "{'review_comment_message': ['comprei trs luminrias e recebi somente uma',\n",
       "  'estou indignada com o descaso efetuei a compra dia 01062017 e ate hoje no recebe meu produto ningum mim ligou para mim esclarecer ou me da satisfao uma vez que ja paguei a 1 parc e vou pagar 2',\n",
       "  'timo produto entrega antes do previsto certamente procurarei a loja no futuro para outras compras'],\n",
       " 'labels': [0.0, 0.0, 1.0],\n",
       " '__index_level_0__': [34436, 29669, 9946]}"
      ]
     },
     "execution_count": 40,
     "metadata": {},
     "output_type": "execute_result"
    }
   ],
   "source": [
    "test_data[:3]"
   ]
  },
  {
   "cell_type": "markdown",
   "metadata": {
    "id": "0dzgoudRhVUi"
   },
   "source": [
    "# **Build the model Roberta**"
   ]
  },
  {
   "cell_type": "markdown",
   "metadata": {
    "id": "rcfwspmhc1gt"
   },
   "source": [
    "Now, when we done EDA  we can train build model"
   ]
  },
  {
   "cell_type": "markdown",
   "metadata": {
    "id": "LJ6ao5Pbcm3U"
   },
   "source": [
    "## Tokenization text"
   ]
  },
  {
   "cell_type": "markdown",
   "metadata": {
    "id": "Axy_X4m1V8kE"
   },
   "source": [
    "Import the tokenizer used to train the distilbert model. i tried many models, so variable past roberta :)"
   ]
  },
  {
   "cell_type": "markdown",
   "metadata": {
    "id": "1h9NkRoNdDsU"
   },
   "source": [
    "## tokenization function\n",
    "\n"
   ]
  },
  {
   "cell_type": "code",
   "execution_count": 41,
   "metadata": {
    "id": "zHJD6a40mKAy"
   },
   "outputs": [],
   "source": [
    "roberta_model = ('lxyuan/distilbert-base-multilingual-cased-sentiments-student')"
   ]
  },
  {
   "cell_type": "code",
   "execution_count": 42,
   "metadata": {},
   "outputs": [
    {
     "name": "stderr",
     "output_type": "stream",
     "text": [
      "D:\\miniconda\\envs\\task_env\\lib\\site-packages\\huggingface_hub\\file_download.py:1132: FutureWarning: `resume_download` is deprecated and will be removed in version 1.0.0. Downloads always resume when possible. If you want to force a new download, use `force_download=True`.\n",
      "  warnings.warn(\n"
     ]
    }
   ],
   "source": [
    "tokenizer = AutoTokenizer.from_pretrained(roberta_model)"
   ]
  },
  {
   "cell_type": "code",
   "execution_count": 43,
   "metadata": {
    "colab": {
     "base_uri": "https://localhost:8080/"
    },
    "id": "djl9UTqGqsHB",
    "outputId": "63fd520b-2d98-4915-d5b3-a2c6790f9faf"
   },
   "outputs": [
    {
     "name": "stdout",
     "output_type": "stream",
     "text": [
      "{'input_ids': [101, 11469, 11062, 39949, 10124, 12452, 10142, 81130, 11127, 102], 'attention_mask': [1, 1, 1, 1, 1, 1, 1, 1, 1, 1]}\n"
     ]
    }
   ],
   "source": [
    "test = \"Tokenizing is important for NLP\"\n",
    "tokenized_test = tokenizer(test)\n",
    "print(tokenized_test)"
   ]
  },
  {
   "cell_type": "code",
   "execution_count": 44,
   "metadata": {
    "id": "98CZkwD7qx73"
   },
   "outputs": [],
   "source": [
    "def tokenize(data):\n",
    "    return tokenizer(data[\"review_comment_message\"], padding=True, truncation=True, return_tensors=\"tf\")"
   ]
  },
  {
   "cell_type": "code",
   "execution_count": 45,
   "metadata": {
    "colab": {
     "base_uri": "https://localhost:8080/",
     "height": 49,
     "referenced_widgets": [
      "d385d91871f14faf9da610a55e20b588",
      "71b197688aba4149a90aefb4b4d4f761",
      "02e02fbdc3c94ba287613011d731f6e0",
      "aaf1282ccb6e48d79bfd277daec30e8f",
      "83e29d52be0b4d04b663c0b5670f734f",
      "e42ba404996b4278955186f3411bae1d",
      "287d0aca4ae54641af884bff21340328",
      "79baeda239414ffe8a75798c84e574a2",
      "10219477f77445a1ab37636c0369d286",
      "ba504f524264489f9243a8d732652304",
      "16f0fd0ae20148f68e646dd4ba501690"
     ]
    },
    "id": "LQyt2w3FxP6i",
    "outputId": "1830113c-b160-48bc-f3bf-73e634cf17d1"
   },
   "outputs": [
    {
     "data": {
      "application/vnd.jupyter.widget-view+json": {
       "model_id": "0ff684b974c34faf9c1c95e8bed11dac",
       "version_major": 2,
       "version_minor": 0
      },
      "text/plain": [
       "Map:   0%|          | 0/27894 [00:00<?, ? examples/s]"
      ]
     },
     "metadata": {},
     "output_type": "display_data"
    }
   ],
   "source": [
    "train_data_encoded = train_data.map(tokenize, batched = True, batch_size = 8)"
   ]
  },
  {
   "cell_type": "code",
   "execution_count": 46,
   "metadata": {
    "colab": {
     "base_uri": "https://localhost:8080/",
     "height": 49,
     "referenced_widgets": [
      "428b1d605b004b93a95a862d9c7149e7",
      "002afdd16d114961811b080847dea8ec",
      "77f3e10ee3af4112a7b67ec285946df8",
      "da2be223bc5a4328aad9091a0049a23e",
      "1d353a3131a14048a69b5311db4d4908",
      "8c24dc5165d346ef8a45537f0003bf88",
      "fdcf967323fd45ad8d260ab921152f4e",
      "18ef9825776040a08f69aa64b02b8d05",
      "6fc1fc74ed8145dd85465584dc0e3aa1",
      "3eece57a388b480cb21cb9e5aeb6fbf4",
      "23e4d64aff954f8c8972b5d7901a806e"
     ]
    },
    "id": "JpJccJVNxP3g",
    "outputId": "4574049e-0080-4409-9484-7cc504abe553"
   },
   "outputs": [
    {
     "data": {
      "application/vnd.jupyter.widget-view+json": {
       "model_id": "992ae1726c8147cd984af7b9ad1a8ddc",
       "version_major": 2,
       "version_minor": 0
      },
      "text/plain": [
       "Map:   0%|          | 0/6974 [00:00<?, ? examples/s]"
      ]
     },
     "metadata": {},
     "output_type": "display_data"
    }
   ],
   "source": [
    "test_data_encoded = test_data.map(tokenize, batched = True, batch_size = 8)"
   ]
  },
  {
   "cell_type": "code",
   "execution_count": 47,
   "metadata": {},
   "outputs": [
    {
     "name": "stderr",
     "output_type": "stream",
     "text": [
      "Some weights of the PyTorch model were not used when initializing the TF 2.0 model TFDistilBertModel: ['classifier.bias', 'pre_classifier.bias', 'classifier.weight', 'pre_classifier.weight']\n",
      "- This IS expected if you are initializing TFDistilBertModel from a PyTorch model trained on another task or with another architecture (e.g. initializing a TFBertForSequenceClassification model from a BertForPreTraining model).\n",
      "- This IS NOT expected if you are initializing TFDistilBertModel from a PyTorch model that you expect to be exactly identical (e.g. initializing a TFBertForSequenceClassification model from a BertForSequenceClassification model).\n",
      "All the weights of TFDistilBertModel were initialized from the PyTorch model.\n",
      "If your task is similar to the task the model of the checkpoint was trained on, you can already use TFDistilBertModel for predictions without further training.\n"
     ]
    }
   ],
   "source": [
    "with tf.device('/CPU:0'):\n",
    "    roberta = TFAutoModel.from_pretrained(roberta_model, from_pt=True)"
   ]
  },
  {
   "cell_type": "markdown",
   "metadata": {
    "id": "_iUKh-U6y00N"
   },
   "source": [
    "## Feature Extraction"
   ]
  },
  {
   "cell_type": "markdown",
   "metadata": {
    "id": "xSsb6mUJy4l8"
   },
   "source": [
    "Use hidden states as features. Freeze the body's weights during training."
   ]
  },
  {
   "cell_type": "code",
   "execution_count": 48,
   "metadata": {
    "id": "a3JLaU_0x8DY"
   },
   "outputs": [],
   "source": [
    "def extract_hidden_states(batch):\n",
    "    inputs = tokenizer(batch[\"review_comment_message\"], padding=True,\n",
    "                       truncation=True, return_tensors='tf')\n",
    "    outputs = roberta(inputs)\n",
    "    hidden_states = outputs.last_hidden_state[:, 0].numpy()\n",
    "    return {\"hidden_states\": hidden_states}"
   ]
  },
  {
   "cell_type": "markdown",
   "metadata": {
    "id": "NXKIjeVNBwFp"
   },
   "source": [
    "extracted and saved dataset to avoid long extraction again\n",
    "![image.png](data:image/png;base64,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)"
   ]
  },
  {
   "cell_type": "code",
   "execution_count": 51,
   "metadata": {
    "id": "FJ6qkXHdq11Q",
    "scrolled": true
   },
   "outputs": [
    {
     "name": "stdout",
     "output_type": "stream",
     "text": [
      "WARNING:tensorflow:Skipping full serialization of Keras layer <keras.layers.regularization.dropout.Dropout object at 0x0000024BC64CF4C0>, because it is not built.\n"
     ]
    },
    {
     "name": "stderr",
     "output_type": "stream",
     "text": [
      "WARNING:tensorflow:Skipping full serialization of Keras layer <keras.layers.regularization.dropout.Dropout object at 0x0000024BC64CF4C0>, because it is not built.\n"
     ]
    },
    {
     "name": "stdout",
     "output_type": "stream",
     "text": [
      "WARNING:tensorflow:Skipping full serialization of Keras layer <keras.layers.regularization.dropout.Dropout object at 0x0000024BC5DD5A90>, because it is not built.\n"
     ]
    },
    {
     "name": "stderr",
     "output_type": "stream",
     "text": [
      "WARNING:tensorflow:Skipping full serialization of Keras layer <keras.layers.regularization.dropout.Dropout object at 0x0000024BC5DD5A90>, because it is not built.\n"
     ]
    },
    {
     "name": "stdout",
     "output_type": "stream",
     "text": [
      "WARNING:tensorflow:Skipping full serialization of Keras layer <keras.layers.regularization.dropout.Dropout object at 0x0000024BC6D16730>, because it is not built.\n"
     ]
    },
    {
     "name": "stderr",
     "output_type": "stream",
     "text": [
      "WARNING:tensorflow:Skipping full serialization of Keras layer <keras.layers.regularization.dropout.Dropout object at 0x0000024BC6D16730>, because it is not built.\n"
     ]
    },
    {
     "name": "stdout",
     "output_type": "stream",
     "text": [
      "WARNING:tensorflow:Skipping full serialization of Keras layer <keras.layers.regularization.dropout.Dropout object at 0x0000024BC6D233D0>, because it is not built.\n"
     ]
    },
    {
     "name": "stderr",
     "output_type": "stream",
     "text": [
      "WARNING:tensorflow:Skipping full serialization of Keras layer <keras.layers.regularization.dropout.Dropout object at 0x0000024BC6D233D0>, because it is not built.\n"
     ]
    },
    {
     "name": "stdout",
     "output_type": "stream",
     "text": [
      "WARNING:tensorflow:Skipping full serialization of Keras layer <keras.layers.regularization.dropout.Dropout object at 0x0000024BC6D2CFA0>, because it is not built.\n"
     ]
    },
    {
     "name": "stderr",
     "output_type": "stream",
     "text": [
      "WARNING:tensorflow:Skipping full serialization of Keras layer <keras.layers.regularization.dropout.Dropout object at 0x0000024BC6D2CFA0>, because it is not built.\n"
     ]
    },
    {
     "name": "stdout",
     "output_type": "stream",
     "text": [
      "WARNING:tensorflow:Skipping full serialization of Keras layer <keras.layers.regularization.dropout.Dropout object at 0x0000024BC6D39CD0>, because it is not built.\n"
     ]
    },
    {
     "name": "stderr",
     "output_type": "stream",
     "text": [
      "WARNING:tensorflow:Skipping full serialization of Keras layer <keras.layers.regularization.dropout.Dropout object at 0x0000024BC6D39CD0>, because it is not built.\n",
      "WARNING:absl:Found untraced functions such as serving, embeddings_layer_call_fn, embeddings_layer_call_and_return_conditional_losses, transformer_layer_call_fn, transformer_layer_call_and_return_conditional_losses while saving (showing 5 of 165). These functions will not be directly callable after loading.\n"
     ]
    },
    {
     "name": "stdout",
     "output_type": "stream",
     "text": [
      "INFO:tensorflow:Assets written to: ram://bfbc2227-a168-45b6-a4d4-b81cb7f6b9d0/assets\n"
     ]
    },
    {
     "name": "stderr",
     "output_type": "stream",
     "text": [
      "INFO:tensorflow:Assets written to: ram://bfbc2227-a168-45b6-a4d4-b81cb7f6b9d0/assets\n"
     ]
    },
    {
     "data": {
      "application/vnd.jupyter.widget-view+json": {
       "model_id": "63d826f1e3a24c3db8a97d4700ed97fa",
       "version_major": 2,
       "version_minor": 0
      },
      "text/plain": [
       "Map:   0%|          | 0/27894 [00:00<?, ? examples/s]"
      ]
     },
     "metadata": {},
     "output_type": "display_data"
    },
    {
     "name": "stdout",
     "output_type": "stream",
     "text": [
      "WARNING:tensorflow:Skipping full serialization of Keras layer <keras.layers.regularization.dropout.Dropout object at 0x0000024BC64CF4C0>, because it is not built.\n"
     ]
    },
    {
     "name": "stderr",
     "output_type": "stream",
     "text": [
      "WARNING:tensorflow:Skipping full serialization of Keras layer <keras.layers.regularization.dropout.Dropout object at 0x0000024BC64CF4C0>, because it is not built.\n"
     ]
    },
    {
     "name": "stdout",
     "output_type": "stream",
     "text": [
      "WARNING:tensorflow:Skipping full serialization of Keras layer <keras.layers.regularization.dropout.Dropout object at 0x0000024BC5DD5A90>, because it is not built.\n"
     ]
    },
    {
     "name": "stderr",
     "output_type": "stream",
     "text": [
      "WARNING:tensorflow:Skipping full serialization of Keras layer <keras.layers.regularization.dropout.Dropout object at 0x0000024BC5DD5A90>, because it is not built.\n"
     ]
    },
    {
     "name": "stdout",
     "output_type": "stream",
     "text": [
      "WARNING:tensorflow:Skipping full serialization of Keras layer <keras.layers.regularization.dropout.Dropout object at 0x0000024BC6D16730>, because it is not built.\n"
     ]
    },
    {
     "name": "stderr",
     "output_type": "stream",
     "text": [
      "WARNING:tensorflow:Skipping full serialization of Keras layer <keras.layers.regularization.dropout.Dropout object at 0x0000024BC6D16730>, because it is not built.\n"
     ]
    },
    {
     "name": "stdout",
     "output_type": "stream",
     "text": [
      "WARNING:tensorflow:Skipping full serialization of Keras layer <keras.layers.regularization.dropout.Dropout object at 0x0000024BC6D233D0>, because it is not built.\n"
     ]
    },
    {
     "name": "stderr",
     "output_type": "stream",
     "text": [
      "WARNING:tensorflow:Skipping full serialization of Keras layer <keras.layers.regularization.dropout.Dropout object at 0x0000024BC6D233D0>, because it is not built.\n"
     ]
    },
    {
     "name": "stdout",
     "output_type": "stream",
     "text": [
      "WARNING:tensorflow:Skipping full serialization of Keras layer <keras.layers.regularization.dropout.Dropout object at 0x0000024BC6D2CFA0>, because it is not built.\n"
     ]
    },
    {
     "name": "stderr",
     "output_type": "stream",
     "text": [
      "WARNING:tensorflow:Skipping full serialization of Keras layer <keras.layers.regularization.dropout.Dropout object at 0x0000024BC6D2CFA0>, because it is not built.\n"
     ]
    },
    {
     "name": "stdout",
     "output_type": "stream",
     "text": [
      "WARNING:tensorflow:Skipping full serialization of Keras layer <keras.layers.regularization.dropout.Dropout object at 0x0000024BC6D39CD0>, because it is not built.\n"
     ]
    },
    {
     "name": "stderr",
     "output_type": "stream",
     "text": [
      "WARNING:tensorflow:Skipping full serialization of Keras layer <keras.layers.regularization.dropout.Dropout object at 0x0000024BC6D39CD0>, because it is not built.\n",
      "WARNING:absl:Found untraced functions such as serving, embeddings_layer_call_fn, embeddings_layer_call_and_return_conditional_losses, transformer_layer_call_fn, transformer_layer_call_and_return_conditional_losses while saving (showing 5 of 165). These functions will not be directly callable after loading.\n"
     ]
    },
    {
     "name": "stdout",
     "output_type": "stream",
     "text": [
      "INFO:tensorflow:Assets written to: ram://df1f4845-3f5e-4112-b626-850c71acbbbf/assets\n"
     ]
    },
    {
     "name": "stderr",
     "output_type": "stream",
     "text": [
      "INFO:tensorflow:Assets written to: ram://df1f4845-3f5e-4112-b626-850c71acbbbf/assets\n"
     ]
    },
    {
     "data": {
      "application/vnd.jupyter.widget-view+json": {
       "model_id": "5bf2576f32fb42619bb4f6e3adb6e6e4",
       "version_major": 2,
       "version_minor": 0
      },
      "text/plain": [
       "Map:   0%|          | 0/6974 [00:00<?, ? examples/s]"
      ]
     },
     "metadata": {},
     "output_type": "display_data"
    }
   ],
   "source": [
    "train_data_hidden = train_data_encoded.map(extract_hidden_states, batched=True,batch_size=8)\n",
    "test_data_hidden = test_data_encoded.map(extract_hidden_states, batched=True,batch_size=8)\n"
   ]
  },
  {
   "cell_type": "code",
   "execution_count": 52,
   "metadata": {
    "id": "ddKCklvCf3bD"
   },
   "outputs": [],
   "source": [
    "train_path = \"D:/Project/SMART_buisness_test_task/Tasks/Task3/Desktop/train\"\n",
    "test_path = \"D:/Project/SMART_buisness_test_task/Tasks/Task3/Desktop/test\"\n",
    "pred_path = \"D:/Project/SMART_buisness_test_task/Tasks/Task3/Desktop/pred\""
   ]
  },
  {
   "cell_type": "code",
   "execution_count": 53,
   "metadata": {
    "id": "s-zzkPLkeqlG"
   },
   "outputs": [
    {
     "data": {
      "application/vnd.jupyter.widget-view+json": {
       "model_id": "94466b96562f4d369dcdae1c38b616e8",
       "version_major": 2,
       "version_minor": 0
      },
      "text/plain": [
       "Saving the dataset (0/1 shards):   0%|          | 0/27894 [00:00<?, ? examples/s]"
      ]
     },
     "metadata": {},
     "output_type": "display_data"
    }
   ],
   "source": [
    "train_data_hidden.save_to_disk(train_path)"
   ]
  },
  {
   "cell_type": "code",
   "execution_count": 54,
   "metadata": {
    "id": "_nRgiteff-8w"
   },
   "outputs": [
    {
     "data": {
      "application/vnd.jupyter.widget-view+json": {
       "model_id": "fcb9e4b9963d40e98804364c3c880ace",
       "version_major": 2,
       "version_minor": 0
      },
      "text/plain": [
       "Saving the dataset (0/1 shards):   0%|          | 0/6974 [00:00<?, ? examples/s]"
      ]
     },
     "metadata": {},
     "output_type": "display_data"
    }
   ],
   "source": [
    "test_data_hidden.save_to_disk(test_path)"
   ]
  },
  {
   "cell_type": "markdown",
   "metadata": {
    "id": "B6-2ovJoyfcS"
   },
   "source": [
    "Convert dataset to np.array"
   ]
  },
  {
   "cell_type": "code",
   "execution_count": null,
   "metadata": {},
   "outputs": [],
   "source": [
    "print(train_data_hidden)"
   ]
  },
  {
   "cell_type": "code",
   "execution_count": 55,
   "metadata": {
    "id": "rc6AHemQgD7g"
   },
   "outputs": [],
   "source": [
    "X = np.array(train_data_hidden[\"hidden_states\"])\n",
    "y = np.array(train_data_hidden[\"labels\"])"
   ]
  },
  {
   "cell_type": "markdown",
   "metadata": {
    "id": "Ojffosivytw7"
   },
   "source": [
    "## Scale data and transfer it to dataframe"
   ]
  },
  {
   "cell_type": "code",
   "execution_count": 56,
   "metadata": {
    "colab": {
     "base_uri": "https://localhost:8080/",
     "height": 206
    },
    "id": "Vo31n0gmsS26",
    "outputId": "2d9ad94e-17f1-47b6-bc1a-e7b87b5fc82c"
   },
   "outputs": [
    {
     "data": {
      "text/html": [
       "<div>\n",
       "<style scoped>\n",
       "    .dataframe tbody tr th:only-of-type {\n",
       "        vertical-align: middle;\n",
       "    }\n",
       "\n",
       "    .dataframe tbody tr th {\n",
       "        vertical-align: top;\n",
       "    }\n",
       "\n",
       "    .dataframe thead th {\n",
       "        text-align: right;\n",
       "    }\n",
       "</style>\n",
       "<table border=\"1\" class=\"dataframe\">\n",
       "  <thead>\n",
       "    <tr style=\"text-align: right;\">\n",
       "      <th></th>\n",
       "      <th>X</th>\n",
       "      <th>Y</th>\n",
       "      <th>target</th>\n",
       "    </tr>\n",
       "  </thead>\n",
       "  <tbody>\n",
       "    <tr>\n",
       "      <th>0</th>\n",
       "      <td>9.394438</td>\n",
       "      <td>5.894917</td>\n",
       "      <td>1.0</td>\n",
       "    </tr>\n",
       "    <tr>\n",
       "      <th>1</th>\n",
       "      <td>3.204408</td>\n",
       "      <td>0.131308</td>\n",
       "      <td>1.0</td>\n",
       "    </tr>\n",
       "    <tr>\n",
       "      <th>2</th>\n",
       "      <td>-2.390554</td>\n",
       "      <td>1.387457</td>\n",
       "      <td>0.0</td>\n",
       "    </tr>\n",
       "    <tr>\n",
       "      <th>3</th>\n",
       "      <td>-3.139509</td>\n",
       "      <td>0.607908</td>\n",
       "      <td>1.0</td>\n",
       "    </tr>\n",
       "    <tr>\n",
       "      <th>4</th>\n",
       "      <td>12.439992</td>\n",
       "      <td>-1.534365</td>\n",
       "      <td>0.0</td>\n",
       "    </tr>\n",
       "  </tbody>\n",
       "</table>\n",
       "</div>"
      ],
      "text/plain": [
       "           X         Y  target\n",
       "0   9.394438  5.894917     1.0\n",
       "1   3.204408  0.131308     1.0\n",
       "2  -2.390554  1.387457     0.0\n",
       "3  -3.139509  0.607908     1.0\n",
       "4  12.439992 -1.534365     0.0"
      ]
     },
     "execution_count": 56,
     "metadata": {},
     "output_type": "execute_result"
    }
   ],
   "source": [
    "X_scaled = MinMaxScaler().fit_transform(X)\n",
    "\n",
    "mapper = UMAP(n_components=2, metric=\"cosine\").fit(X_scaled)\n",
    "\n",
    "df_emb = pd.DataFrame(mapper.embedding_, columns=[\"X\", \"Y\"])\n",
    "df_emb[\"target\"] = y\n",
    "df_emb.head()"
   ]
  },
  {
   "cell_type": "markdown",
   "metadata": {
    "id": "NZtjKXTF43wK"
   },
   "source": [
    "## Training a base Model using the hidden states by XGBoost"
   ]
  },
  {
   "cell_type": "code",
   "execution_count": 57,
   "metadata": {
    "id": "_Mb1J3v0ud8s"
   },
   "outputs": [],
   "source": [
    "from xgboost import XGBClassifier"
   ]
  },
  {
   "cell_type": "code",
   "execution_count": 58,
   "metadata": {
    "id": "sFomU2Ys4-Y-"
   },
   "outputs": [],
   "source": [
    "X_train, X_val, y_train, y_val = train_test_split(X, y, test_size=0.2, random_state=42)"
   ]
  },
  {
   "cell_type": "code",
   "execution_count": 59,
   "metadata": {
    "colab": {
     "base_uri": "https://localhost:8080/"
    },
    "id": "bScvIx865Bx4",
    "outputId": "553c3fb8-aa04-4dcb-ced9-8cc8abfa73c1"
   },
   "outputs": [
    {
     "name": "stdout",
     "output_type": "stream",
     "text": [
      "[1 1 0 ... 0 0 0]\n",
      "[0 1 0 ... 1 1 1]\n"
     ]
    }
   ],
   "source": [
    "y_train = y_train.astype(int)\n",
    "y_val = y_val.astype(int)\n",
    "\n",
    "print(y_val)\n",
    "print(y_train)"
   ]
  },
  {
   "cell_type": "markdown",
   "metadata": {
    "id": "XLTshgvMzSZ0"
   },
   "source": [
    "Evaluate"
   ]
  },
  {
   "cell_type": "code",
   "execution_count": 60,
   "metadata": {
    "colab": {
     "base_uri": "https://localhost:8080/"
    },
    "id": "4dbGZydA5Erj",
    "outputId": "3c7aa9bd-1157-4446-b00a-00d7233f9893"
   },
   "outputs": [
    {
     "data": {
      "text/plain": [
       "0.9507080121885643"
      ]
     },
     "execution_count": 60,
     "metadata": {},
     "output_type": "execute_result"
    }
   ],
   "source": [
    "xgb_clf = XGBClassifier()\n",
    "\n",
    "xgb_clf.fit(X_train, y_train)\n",
    "\n",
    "xgb_clf.score(X_val, y_val)"
   ]
  },
  {
   "cell_type": "code",
   "execution_count": null,
   "metadata": {
    "colab": {
     "base_uri": "https://localhost:8080/"
    },
    "id": "u94L7VNh_j-B",
    "outputId": "db401c17-c1ab-4bf4-c5fe-1dfd49f2c0d8"
   },
   "outputs": [],
   "source": [
    "# #Save\n",
    "# xgb_clf.save_model('0004.model')"
   ]
  },
  {
   "cell_type": "markdown",
   "metadata": {
    "id": "Xl0Qee5Px028"
   },
   "source": [
    "## Confusion matrix XGBoost"
   ]
  },
  {
   "cell_type": "code",
   "execution_count": 61,
   "metadata": {
    "id": "j1P4ori35KOF"
   },
   "outputs": [],
   "source": [
    "from sklearn.metrics import confusion_matrix, ConfusionMatrixDisplay\n",
    "\n",
    "def confusion_matrix_plot(y_pred, y_true, labels, clf):\n",
    "    cm = confusion_matrix(y_true, y_pred, normalize=\"true\")\n",
    "    fig, ax = plt.subplots(figsize=(6,6))\n",
    "    confm = ConfusionMatrixDisplay(confusion_matrix=cm, display_labels = labels)\n",
    "    confm.plot(cmap=\"Blues\", values_format=\".2f\", ax=ax, colorbar=False)\n",
    "    plt.title(f\"Normalized Confusion Matrix {clf}\")\n",
    "    plt.show()"
   ]
  },
  {
   "cell_type": "code",
   "execution_count": 62,
   "metadata": {
    "colab": {
     "base_uri": "https://localhost:8080/",
     "height": 606
    },
    "id": "PS6a-3i15cKZ",
    "outputId": "8c905408-a17d-42d3-dd0c-b7fd46bb8a2f"
   },
   "outputs": [
    {
     "data": {
      "image/png": "[encoded data removed]",
      "text/plain": [
       "<Figure size 600x600 with 1 Axes>"
      ]
     },
     "metadata": {},
     "output_type": "display_data"
    }
   ],
   "source": [
    "labels = np.unique(y)\n",
    "y_pred_xgb = xgb_clf.predict(X_val)\n",
    "confusion_matrix_plot(y_pred_xgb, y_val, labels, \"XGBoostClassifier\")"
   ]
  },
  {
   "cell_type": "markdown",
   "metadata": {
    "id": "sqc1QFwpxm3f"
   },
   "source": [
    "# **Predict sentiments to main data**"
   ]
  },
  {
   "cell_type": "markdown",
   "metadata": {},
   "source": [
    "## Encoding all reviews from data"
   ]
  },
  {
   "cell_type": "code",
   "execution_count": 93,
   "metadata": {
    "id": "T91SxvvvPKzs"
   },
   "outputs": [],
   "source": [
    "data_to_predict = merged_data\n",
    "data_to_predict = data_to_predict.dropna(subset=[\"review_comment_message\"])"
   ]
  },
  {
   "cell_type": "code",
   "execution_count": 64,
   "metadata": {
    "colab": {
     "base_uri": "https://localhost:8080/"
    },
    "id": "DBK38u9EvHA-",
    "outputId": "a0f46d67-f351-4365-d21d-ccb39dad05a9"
   },
   "outputs": [],
   "source": [
    "pred_reviews_new = []\n",
    "for t in data_to_predict.review_comment_message:\n",
    "    pred_reviews_new.append(remove_mult_spaces(filter_chars(clean_hashtags \\\n",
    "                                        (strip_all_entities(strip_emoji(t))))))"
   ]
  },
  {
   "cell_type": "code",
   "execution_count": 94,
   "metadata": {
    "id": "yX3Xe3huvJ_A"
   },
   "outputs": [
    {
     "name": "stderr",
     "output_type": "stream",
     "text": [
      "C:\\Users\\KDFX Modes\\AppData\\Local\\Temp\\ipykernel_12280\\2626040748.py:1: SettingWithCopyWarning: \n",
      "A value is trying to be set on a copy of a slice from a DataFrame.\n",
      "Try using .loc[row_indexer,col_indexer] = value instead\n",
      "\n",
      "See the caveats in the documentation: https://pandas.pydata.org/pandas-docs/stable/user_guide/indexing.html#returning-a-view-versus-a-copy\n",
      "  data_to_predict[\"review_comment_message\"] = pred_reviews_new\n"
     ]
    }
   ],
   "source": [
    "data_to_predict[\"review_comment_message\"] = pred_reviews_new\n",
    "pred = data_to_predict[\"review_comment_message\"]"
   ]
  },
  {
   "cell_type": "code",
   "execution_count": 66,
   "metadata": {
    "colab": {
     "base_uri": "https://localhost:8080/",
     "height": 676
    },
    "id": "Js4Dh46UvNgQ",
    "outputId": "02d28623-355b-4f4f-b15c-91faf5f3bee0"
   },
   "outputs": [],
   "source": [
    "pred = pd.DataFrame(pred)\n",
    "pred = Dataset.from_pandas(pred)"
   ]
  },
  {
   "cell_type": "markdown",
   "metadata": {
    "id": "O4jwqK1J7Bq7"
   },
   "source": [
    "## Encode all data"
   ]
  },
  {
   "cell_type": "code",
   "execution_count": 67,
   "metadata": {
    "colab": {
     "base_uri": "https://localhost:8080/"
    },
    "id": "CUH96CX99x2G",
    "outputId": "64b82be4-1e2a-453a-916f-d33199fe3c0a"
   },
   "outputs": [
    {
     "data": {
      "application/vnd.jupyter.widget-view+json": {
       "model_id": "cd716a25fdfc48e6ab35ff51cbaa1270",
       "version_major": 2,
       "version_minor": 0
      },
      "text/plain": [
       "Map:   0%|          | 0/48592 [00:00<?, ? examples/s]"
      ]
     },
     "metadata": {},
     "output_type": "display_data"
    }
   ],
   "source": [
    "dred_data_encoded = pred.map(tokenize, batched = True, batch_size = None)"
   ]
  },
  {
   "cell_type": "code",
   "execution_count": 69,
   "metadata": {
    "id": "vjLicVUi-XRG"
   },
   "outputs": [
    {
     "name": "stdout",
     "output_type": "stream",
     "text": [
      "WARNING:tensorflow:Skipping full serialization of Keras layer <keras.layers.regularization.dropout.Dropout object at 0x0000024BC64CF4C0>, because it is not built.\n"
     ]
    },
    {
     "name": "stderr",
     "output_type": "stream",
     "text": [
      "WARNING:tensorflow:Skipping full serialization of Keras layer <keras.layers.regularization.dropout.Dropout object at 0x0000024BC64CF4C0>, because it is not built.\n"
     ]
    },
    {
     "name": "stdout",
     "output_type": "stream",
     "text": [
      "WARNING:tensorflow:Skipping full serialization of Keras layer <keras.layers.regularization.dropout.Dropout object at 0x0000024BC5DD5A90>, because it is not built.\n"
     ]
    },
    {
     "name": "stderr",
     "output_type": "stream",
     "text": [
      "WARNING:tensorflow:Skipping full serialization of Keras layer <keras.layers.regularization.dropout.Dropout object at 0x0000024BC5DD5A90>, because it is not built.\n"
     ]
    },
    {
     "name": "stdout",
     "output_type": "stream",
     "text": [
      "WARNING:tensorflow:Skipping full serialization of Keras layer <keras.layers.regularization.dropout.Dropout object at 0x0000024BC6D16730>, because it is not built.\n"
     ]
    },
    {
     "name": "stderr",
     "output_type": "stream",
     "text": [
      "WARNING:tensorflow:Skipping full serialization of Keras layer <keras.layers.regularization.dropout.Dropout object at 0x0000024BC6D16730>, because it is not built.\n"
     ]
    },
    {
     "name": "stdout",
     "output_type": "stream",
     "text": [
      "WARNING:tensorflow:Skipping full serialization of Keras layer <keras.layers.regularization.dropout.Dropout object at 0x0000024BC6D233D0>, because it is not built.\n"
     ]
    },
    {
     "name": "stderr",
     "output_type": "stream",
     "text": [
      "WARNING:tensorflow:Skipping full serialization of Keras layer <keras.layers.regularization.dropout.Dropout object at 0x0000024BC6D233D0>, because it is not built.\n"
     ]
    },
    {
     "name": "stdout",
     "output_type": "stream",
     "text": [
      "WARNING:tensorflow:Skipping full serialization of Keras layer <keras.layers.regularization.dropout.Dropout object at 0x0000024BC6D2CFA0>, because it is not built.\n"
     ]
    },
    {
     "name": "stderr",
     "output_type": "stream",
     "text": [
      "WARNING:tensorflow:Skipping full serialization of Keras layer <keras.layers.regularization.dropout.Dropout object at 0x0000024BC6D2CFA0>, because it is not built.\n"
     ]
    },
    {
     "name": "stdout",
     "output_type": "stream",
     "text": [
      "WARNING:tensorflow:Skipping full serialization of Keras layer <keras.layers.regularization.dropout.Dropout object at 0x0000024BC6D39CD0>, because it is not built.\n"
     ]
    },
    {
     "name": "stderr",
     "output_type": "stream",
     "text": [
      "WARNING:tensorflow:Skipping full serialization of Keras layer <keras.layers.regularization.dropout.Dropout object at 0x0000024BC6D39CD0>, because it is not built.\n",
      "WARNING:absl:Found untraced functions such as serving, embeddings_layer_call_fn, embeddings_layer_call_and_return_conditional_losses, transformer_layer_call_fn, transformer_layer_call_and_return_conditional_losses while saving (showing 5 of 165). These functions will not be directly callable after loading.\n"
     ]
    },
    {
     "name": "stdout",
     "output_type": "stream",
     "text": [
      "INFO:tensorflow:Assets written to: ram://6e710c9d-12f5-434f-9cff-b2e955c85876/assets\n"
     ]
    },
    {
     "name": "stderr",
     "output_type": "stream",
     "text": [
      "INFO:tensorflow:Assets written to: ram://6e710c9d-12f5-434f-9cff-b2e955c85876/assets\n"
     ]
    },
    {
     "data": {
      "application/vnd.jupyter.widget-view+json": {
       "model_id": "4b12858dd91b4383ad49cb81bd02057d",
       "version_major": 2,
       "version_minor": 0
      },
      "text/plain": [
       "Map:   0%|          | 0/48592 [00:00<?, ? examples/s]"
      ]
     },
     "metadata": {},
     "output_type": "display_data"
    }
   ],
   "source": [
    "pred_data_hidden = dred_data_encoded.map(extract_hidden_states, batched=True,batch_size=8)"
   ]
  },
  {
   "cell_type": "code",
   "execution_count": 70,
   "metadata": {
    "id": "dZS59dXt-eKN"
   },
   "outputs": [
    {
     "data": {
      "application/vnd.jupyter.widget-view+json": {
       "model_id": "54202a84b4c94058b2818f28b67353df",
       "version_major": 2,
       "version_minor": 0
      },
      "text/plain": [
       "Saving the dataset (0/1 shards):   0%|          | 0/48592 [00:00<?, ? examples/s]"
      ]
     },
     "metadata": {},
     "output_type": "display_data"
    }
   ],
   "source": [
    "pred_data_hidden.save_to_disk(pred_path)"
   ]
  },
  {
   "cell_type": "code",
   "execution_count": 71,
   "metadata": {
    "colab": {
     "base_uri": "https://localhost:8080/"
    },
    "id": "MOBpUh4E9AoQ",
    "outputId": "169f958d-af50-4c0f-be40-1a67695a8348"
   },
   "outputs": [],
   "source": [
    "X_pred = np.array(pred_data_hidden[\"hidden_states\"])"
   ]
  },
  {
   "cell_type": "markdown",
   "metadata": {},
   "source": [
    "## Predict"
   ]
  },
  {
   "cell_type": "markdown",
   "metadata": {},
   "source": [
    "**In predicted values 0 - negative review; 1 - positive**"
   ]
  },
  {
   "cell_type": "code",
   "execution_count": 72,
   "metadata": {
    "id": "XYpo4jOK76CI"
   },
   "outputs": [],
   "source": [
    "predicted_score = xgb_clf.predict(X_pred)"
   ]
  },
  {
   "cell_type": "code",
   "execution_count": 73,
   "metadata": {
    "id": "gqldd-Qz9Qpg"
   },
   "outputs": [],
   "source": [
    "prd_score = pd.DataFrame(predicted_score)"
   ]
  },
  {
   "cell_type": "code",
   "execution_count": 74,
   "metadata": {
    "colab": {
     "base_uri": "https://localhost:8080/",
     "height": 423
    },
    "id": "ZPM_8vn--KGV",
    "outputId": "7f4c0dbd-d95c-477f-e58b-e11e09ad012b"
   },
   "outputs": [],
   "source": [
    "# prd_score.to_csv(\"result_score.csv\")"
   ]
  },
  {
   "cell_type": "markdown",
   "metadata": {
    "id": "wCz-r5a-9Ts9"
   },
   "source": [
    "## Concatinate data with data predicted by model"
   ]
  },
  {
   "cell_type": "code",
   "execution_count": 101,
   "metadata": {},
   "outputs": [],
   "source": [
    "data_to_predict[\"score\"] = prd_score"
   ]
  },
  {
   "cell_type": "code",
   "execution_count": 99,
   "metadata": {},
   "outputs": [],
   "source": [
    "data_to_predict = data_to_predict.reset_index()"
   ]
  },
  {
   "cell_type": "markdown",
   "metadata": {},
   "source": [
    "## Full review analysis"
   ]
  },
  {
   "cell_type": "code",
   "execution_count": 77,
   "metadata": {},
   "outputs": [
    {
     "data": {
      "text/plain": [
       "Index(['review_id', 'order_id', 'review_score', 'review_comment_title',\n",
       "       'review_comment_message', 'review_creation_date',\n",
       "       'review_answer_timestamp', 'order_item_id', 'product_id', 'seller_id',\n",
       "       'shipping_limit_date', 'price', 'freight_value', 'score'],\n",
       "      dtype='object')"
      ]
     },
     "execution_count": 77,
     "metadata": {},
     "output_type": "execute_result"
    }
   ],
   "source": [
    "data_to_predict.columns"
   ]
  },
  {
   "cell_type": "markdown",
   "metadata": {},
   "source": [
    "**Define dataset with just necessary columns**"
   ]
  },
  {
   "cell_type": "code",
   "execution_count": 102,
   "metadata": {},
   "outputs": [],
   "source": [
    "analysis_rev = data_to_predict[[\"seller_id\", \"review_score\", \"review_comment_message\",\"score\"]]"
   ]
  },
  {
   "cell_type": "code",
   "execution_count": 103,
   "metadata": {},
   "outputs": [
    {
     "data": {
      "text/html": [
       "<div>\n",
       "<style scoped>\n",
       "    .dataframe tbody tr th:only-of-type {\n",
       "        vertical-align: middle;\n",
       "    }\n",
       "\n",
       "    .dataframe tbody tr th {\n",
       "        vertical-align: top;\n",
       "    }\n",
       "\n",
       "    .dataframe thead th {\n",
       "        text-align: right;\n",
       "    }\n",
       "</style>\n",
       "<table border=\"1\" class=\"dataframe\">\n",
       "  <thead>\n",
       "    <tr style=\"text-align: right;\">\n",
       "      <th></th>\n",
       "      <th>seller_id</th>\n",
       "      <th>review_score</th>\n",
       "      <th>review_comment_message</th>\n",
       "      <th>score</th>\n",
       "    </tr>\n",
       "  </thead>\n",
       "  <tbody>\n",
       "    <tr>\n",
       "      <th>0</th>\n",
       "      <td>a1043bafd471dff536d0c462352beb48</td>\n",
       "      <td>5</td>\n",
       "      <td>recebi bem antes do prazo estipulado</td>\n",
       "      <td>1</td>\n",
       "    </tr>\n",
       "    <tr>\n",
       "      <th>1</th>\n",
       "      <td>989becdce12ebc39863c2bceab6f3ca1</td>\n",
       "      <td>5</td>\n",
       "      <td>parabns lojas lannister adorei comprar pela in...</td>\n",
       "      <td>1</td>\n",
       "    </tr>\n",
       "    <tr>\n",
       "      <th>2</th>\n",
       "      <td>05ff92fedb5be47920fea08e501238b9</td>\n",
       "      <td>4</td>\n",
       "      <td>aparelho eficiente no site a marca do aparelho...</td>\n",
       "      <td>1</td>\n",
       "    </tr>\n",
       "    <tr>\n",
       "      <th>3</th>\n",
       "      <td>db4350fd57ae30082dec7acbaacc17f9</td>\n",
       "      <td>4</td>\n",
       "      <td>mas um pouco travandopelo valor ta boa</td>\n",
       "      <td>1</td>\n",
       "    </tr>\n",
       "    <tr>\n",
       "      <th>4</th>\n",
       "      <td>974cf2cb8f4b7add98709c30df02fe10</td>\n",
       "      <td>5</td>\n",
       "      <td>vendedor confivel produto ok e entrega antes d...</td>\n",
       "      <td>1</td>\n",
       "    </tr>\n",
       "    <tr>\n",
       "      <th>5</th>\n",
       "      <td>7ddcbb64b5bc1ef36ca8c151f6ec77df</td>\n",
       "      <td>2</td>\n",
       "      <td>gostaria de saber o que houve sempre recebi e ...</td>\n",
       "      <td>0</td>\n",
       "    </tr>\n",
       "    <tr>\n",
       "      <th>6</th>\n",
       "      <td>0be8ff43f22e456b4e0371b2245e4d01</td>\n",
       "      <td>1</td>\n",
       "      <td>pssimo</td>\n",
       "      <td>0</td>\n",
       "    </tr>\n",
       "    <tr>\n",
       "      <th>7</th>\n",
       "      <td>8b2492b7ff4468839593fafeed55bad9</td>\n",
       "      <td>5</td>\n",
       "      <td>loja nota 10</td>\n",
       "      <td>1</td>\n",
       "    </tr>\n",
       "    <tr>\n",
       "      <th>8</th>\n",
       "      <td>7142540dd4c91e2237acb7e911c4eba2</td>\n",
       "      <td>5</td>\n",
       "      <td>obrigado pela atenao amim dispensada</td>\n",
       "      <td>1</td>\n",
       "    </tr>\n",
       "    <tr>\n",
       "      <th>9</th>\n",
       "      <td>c003204e1ab016dfa150abc119207b24</td>\n",
       "      <td>5</td>\n",
       "      <td>a compra foi realizada facilmente a entrega fo...</td>\n",
       "      <td>1</td>\n",
       "    </tr>\n",
       "    <tr>\n",
       "      <th>10</th>\n",
       "      <td>6560211a19b47992c3666cc44a7e94c0</td>\n",
       "      <td>5</td>\n",
       "      <td>relgio muito bonito e barato</td>\n",
       "      <td>1</td>\n",
       "    </tr>\n",
       "    <tr>\n",
       "      <th>11</th>\n",
       "      <td>54965bbe3e4f07ae045b90b0b8541f52</td>\n",
       "      <td>1</td>\n",
       "      <td>no gostei comprei gato por lebre</td>\n",
       "      <td>0</td>\n",
       "    </tr>\n",
       "    <tr>\n",
       "      <th>12</th>\n",
       "      <td>634964b17796e64304cadf1ad3050fb7</td>\n",
       "      <td>1</td>\n",
       "      <td>sempre compro pela internet e a entrega ocorre...</td>\n",
       "      <td>0</td>\n",
       "    </tr>\n",
       "    <tr>\n",
       "      <th>13</th>\n",
       "      <td>bd15ee794d5e640d9dd71b665b2ab15b</td>\n",
       "      <td>4</td>\n",
       "      <td>recebi exatamente o que esperava as demais enc...</td>\n",
       "      <td>1</td>\n",
       "    </tr>\n",
       "    <tr>\n",
       "      <th>14</th>\n",
       "      <td>ce20a2ec1514c25e16f2b5b39bc818f0</td>\n",
       "      <td>5</td>\n",
       "      <td>recomendo</td>\n",
       "      <td>1</td>\n",
       "    </tr>\n",
       "    <tr>\n",
       "      <th>15</th>\n",
       "      <td>70a12e78e608ac31179aea7f8422044b</td>\n",
       "      <td>5</td>\n",
       "      <td>muito boa</td>\n",
       "      <td>1</td>\n",
       "    </tr>\n",
       "    <tr>\n",
       "      <th>16</th>\n",
       "      <td>5670f4db5b62c43d542e1b2d56b0cf7c</td>\n",
       "      <td>5</td>\n",
       "      <td>t completamente apaixonada loja super responsv...</td>\n",
       "      <td>1</td>\n",
       "    </tr>\n",
       "    <tr>\n",
       "      <th>17</th>\n",
       "      <td>318f287a62ab7ac10b703ac37435a231</td>\n",
       "      <td>1</td>\n",
       "      <td>nada de chegar o meu pedido</td>\n",
       "      <td>0</td>\n",
       "    </tr>\n",
       "    <tr>\n",
       "      <th>18</th>\n",
       "      <td>318f287a62ab7ac10b703ac37435a231</td>\n",
       "      <td>1</td>\n",
       "      <td>nada de chegar o meu pedido</td>\n",
       "      <td>0</td>\n",
       "    </tr>\n",
       "    <tr>\n",
       "      <th>19</th>\n",
       "      <td>318f287a62ab7ac10b703ac37435a231</td>\n",
       "      <td>1</td>\n",
       "      <td>nada de chegar o meu pedido</td>\n",
       "      <td>0</td>\n",
       "    </tr>\n",
       "  </tbody>\n",
       "</table>\n",
       "</div>"
      ],
      "text/plain": [
       "                           seller_id  review_score  \\\n",
       "0   a1043bafd471dff536d0c462352beb48             5   \n",
       "1   989becdce12ebc39863c2bceab6f3ca1             5   \n",
       "2   05ff92fedb5be47920fea08e501238b9             4   \n",
       "3   db4350fd57ae30082dec7acbaacc17f9             4   \n",
       "4   974cf2cb8f4b7add98709c30df02fe10             5   \n",
       "5   7ddcbb64b5bc1ef36ca8c151f6ec77df             2   \n",
       "6   0be8ff43f22e456b4e0371b2245e4d01             1   \n",
       "7   8b2492b7ff4468839593fafeed55bad9             5   \n",
       "8   7142540dd4c91e2237acb7e911c4eba2             5   \n",
       "9   c003204e1ab016dfa150abc119207b24             5   \n",
       "10  6560211a19b47992c3666cc44a7e94c0             5   \n",
       "11  54965bbe3e4f07ae045b90b0b8541f52             1   \n",
       "12  634964b17796e64304cadf1ad3050fb7             1   \n",
       "13  bd15ee794d5e640d9dd71b665b2ab15b             4   \n",
       "14  ce20a2ec1514c25e16f2b5b39bc818f0             5   \n",
       "15  70a12e78e608ac31179aea7f8422044b             5   \n",
       "16  5670f4db5b62c43d542e1b2d56b0cf7c             5   \n",
       "17  318f287a62ab7ac10b703ac37435a231             1   \n",
       "18  318f287a62ab7ac10b703ac37435a231             1   \n",
       "19  318f287a62ab7ac10b703ac37435a231             1   \n",
       "\n",
       "                               review_comment_message  score  \n",
       "0                recebi bem antes do prazo estipulado      1  \n",
       "1   parabns lojas lannister adorei comprar pela in...      1  \n",
       "2   aparelho eficiente no site a marca do aparelho...      1  \n",
       "3              mas um pouco travandopelo valor ta boa      1  \n",
       "4   vendedor confivel produto ok e entrega antes d...      1  \n",
       "5   gostaria de saber o que houve sempre recebi e ...      0  \n",
       "6                                              pssimo      0  \n",
       "7                                        loja nota 10      1  \n",
       "8                obrigado pela atenao amim dispensada      1  \n",
       "9   a compra foi realizada facilmente a entrega fo...      1  \n",
       "10                       relgio muito bonito e barato      1  \n",
       "11                   no gostei comprei gato por lebre      0  \n",
       "12  sempre compro pela internet e a entrega ocorre...      0  \n",
       "13  recebi exatamente o que esperava as demais enc...      1  \n",
       "14                                          recomendo      1  \n",
       "15                                          muito boa      1  \n",
       "16  t completamente apaixonada loja super responsv...      1  \n",
       "17                        nada de chegar o meu pedido      0  \n",
       "18                        nada de chegar o meu pedido      0  \n",
       "19                        nada de chegar o meu pedido      0  "
      ]
     },
     "execution_count": 103,
     "metadata": {},
     "output_type": "execute_result"
    }
   ],
   "source": [
    "analysis_rev.head(20)"
   ]
  },
  {
   "cell_type": "markdown",
   "metadata": {},
   "source": [
    "## Let's count values for each score:"
   ]
  },
  {
   "cell_type": "code",
   "execution_count": 113,
   "metadata": {},
   "outputs": [
    {
     "name": "stdout",
     "output_type": "stream",
     "text": [
      "the score 5 values is:   score\n",
      "1    22265\n",
      "0      577\n",
      "Name: count, dtype: int64 \n",
      " ------------------------------\n",
      "the score 4 values is:   score\n",
      "1    5165\n",
      "0    1628\n",
      "Name: count, dtype: int64 \n",
      " ------------------------------\n",
      "the score 3 values is:   score\n",
      "0    2687\n",
      "1    1739\n",
      "Name: count, dtype: int64 \n",
      " ------------------------------\n",
      "the score 2 values is:   score\n",
      "0    2338\n",
      "1     511\n",
      "Name: count, dtype: int64 \n",
      " ------------------------------\n",
      "the score 1 values is:   score\n",
      "0    11462\n",
      "1      220\n",
      "Name: count, dtype: int64 \n",
      " ------------------------------\n"
     ]
    }
   ],
   "source": [
    "print(\"the score 5 values is:  \", analysis_rev[analysis_rev[\"review_score\"]==5].value_counts(\"score\"),\"\\n\", \"-\"*30)\n",
    "print(\"the score 4 values is:  \", analysis_rev[analysis_rev[\"review_score\"]==4].value_counts(\"score\"),\"\\n\", \"-\"*30)\n",
    "print(\"the score 3 values is:  \", analysis_rev[analysis_rev[\"review_score\"]==3].value_counts(\"score\"),\"\\n\", \"-\"*30)\n",
    "print(\"the score 2 values is:  \", analysis_rev[analysis_rev[\"review_score\"]==2].value_counts(\"score\"),\"\\n\", \"-\"*30)\n",
    "print(\"the score 1 values is:  \", analysis_rev[analysis_rev[\"review_score\"]==1].value_counts(\"score\"),\"\\n\", \"-\"*30)"
   ]
  },
  {
   "cell_type": "markdown",
   "metadata": {},
   "source": [
    "## exploring 4 and 3 score"
   ]
  },
  {
   "cell_type": "code",
   "execution_count": 116,
   "metadata": {},
   "outputs": [
    {
     "data": {
      "text/html": [
       "<div>\n",
       "<style scoped>\n",
       "    .dataframe tbody tr th:only-of-type {\n",
       "        vertical-align: middle;\n",
       "    }\n",
       "\n",
       "    .dataframe tbody tr th {\n",
       "        vertical-align: top;\n",
       "    }\n",
       "\n",
       "    .dataframe thead th {\n",
       "        text-align: right;\n",
       "    }\n",
       "</style>\n",
       "<table border=\"1\" class=\"dataframe\">\n",
       "  <thead>\n",
       "    <tr style=\"text-align: right;\">\n",
       "      <th></th>\n",
       "      <th>seller_id</th>\n",
       "      <th>review_score</th>\n",
       "      <th>review_comment_message</th>\n",
       "      <th>score</th>\n",
       "    </tr>\n",
       "  </thead>\n",
       "  <tbody>\n",
       "    <tr>\n",
       "      <th>2</th>\n",
       "      <td>05ff92fedb5be47920fea08e501238b9</td>\n",
       "      <td>4</td>\n",
       "      <td>aparelho eficiente no site a marca do aparelho...</td>\n",
       "      <td>1</td>\n",
       "    </tr>\n",
       "    <tr>\n",
       "      <th>3</th>\n",
       "      <td>db4350fd57ae30082dec7acbaacc17f9</td>\n",
       "      <td>4</td>\n",
       "      <td>mas um pouco travandopelo valor ta boa</td>\n",
       "      <td>1</td>\n",
       "    </tr>\n",
       "    <tr>\n",
       "      <th>13</th>\n",
       "      <td>bd15ee794d5e640d9dd71b665b2ab15b</td>\n",
       "      <td>4</td>\n",
       "      <td>recebi exatamente o que esperava as demais enc...</td>\n",
       "      <td>1</td>\n",
       "    </tr>\n",
       "    <tr>\n",
       "      <th>32</th>\n",
       "      <td>febab0275244b9a49a623f0bd613ca2f</td>\n",
       "      <td>4</td>\n",
       "      <td>tima loja para parceria rpidssima produtos bem...</td>\n",
       "      <td>1</td>\n",
       "    </tr>\n",
       "    <tr>\n",
       "      <th>61</th>\n",
       "      <td>0761743cbffb25d7148189e9f1a5f03a</td>\n",
       "      <td>4</td>\n",
       "      <td>estava faltando apenas um produto eu recebi ho...</td>\n",
       "      <td>0</td>\n",
       "    </tr>\n",
       "    <tr>\n",
       "      <th>62</th>\n",
       "      <td>0761743cbffb25d7148189e9f1a5f03a</td>\n",
       "      <td>4</td>\n",
       "      <td>estava faltando apenas um produto eu recebi ho...</td>\n",
       "      <td>0</td>\n",
       "    </tr>\n",
       "    <tr>\n",
       "      <th>63</th>\n",
       "      <td>0761743cbffb25d7148189e9f1a5f03a</td>\n",
       "      <td>4</td>\n",
       "      <td>estava faltando apenas um produto eu recebi ho...</td>\n",
       "      <td>0</td>\n",
       "    </tr>\n",
       "    <tr>\n",
       "      <th>64</th>\n",
       "      <td>0761743cbffb25d7148189e9f1a5f03a</td>\n",
       "      <td>4</td>\n",
       "      <td>estava faltando apenas um produto eu recebi ho...</td>\n",
       "      <td>0</td>\n",
       "    </tr>\n",
       "    <tr>\n",
       "      <th>65</th>\n",
       "      <td>0761743cbffb25d7148189e9f1a5f03a</td>\n",
       "      <td>4</td>\n",
       "      <td>estava faltando apenas um produto eu recebi ho...</td>\n",
       "      <td>0</td>\n",
       "    </tr>\n",
       "    <tr>\n",
       "      <th>90</th>\n",
       "      <td>1025f0e2d44d7041d6cf58b6550e0bfa</td>\n",
       "      <td>4</td>\n",
       "      <td>se fosse vidro tinha quebrado veio na caixa se...</td>\n",
       "      <td>0</td>\n",
       "    </tr>\n",
       "    <tr>\n",
       "      <th>91</th>\n",
       "      <td>1025f0e2d44d7041d6cf58b6550e0bfa</td>\n",
       "      <td>4</td>\n",
       "      <td>se fosse vidro tinha quebrado veio na caixa se...</td>\n",
       "      <td>0</td>\n",
       "    </tr>\n",
       "    <tr>\n",
       "      <th>131</th>\n",
       "      <td>e9511df20ccd82658a30c37b7fb343af</td>\n",
       "      <td>4</td>\n",
       "      <td>atendeu minha expectativa</td>\n",
       "      <td>1</td>\n",
       "    </tr>\n",
       "    <tr>\n",
       "      <th>135</th>\n",
       "      <td>0dd184061fb0eaa7ca37932c68ab91c5</td>\n",
       "      <td>4</td>\n",
       "      <td>uma das peas no encaixava estava de dimetro di...</td>\n",
       "      <td>0</td>\n",
       "    </tr>\n",
       "    <tr>\n",
       "      <th>153</th>\n",
       "      <td>fa1c13f2614d7b5c4749cbc52fecda94</td>\n",
       "      <td>4</td>\n",
       "      <td>parabns para loja e revendedor apesar de ter d...</td>\n",
       "      <td>1</td>\n",
       "    </tr>\n",
       "    <tr>\n",
       "      <th>171</th>\n",
       "      <td>3340ef1913fb70d28420f6ceb685c339</td>\n",
       "      <td>4</td>\n",
       "      <td>foi bom</td>\n",
       "      <td>1</td>\n",
       "    </tr>\n",
       "    <tr>\n",
       "      <th>179</th>\n",
       "      <td>b76dba6c951ab00dc4edf0a1aa88037e</td>\n",
       "      <td>4</td>\n",
       "      <td>entrega super rpida parabns</td>\n",
       "      <td>1</td>\n",
       "    </tr>\n",
       "    <tr>\n",
       "      <th>180</th>\n",
       "      <td>834f8533b2ecb6598dd004ff3de7203a</td>\n",
       "      <td>4</td>\n",
       "      <td>tudo rpido e eficiente</td>\n",
       "      <td>1</td>\n",
       "    </tr>\n",
       "    <tr>\n",
       "      <th>184</th>\n",
       "      <td>9539213aa8e023c01937bef95dc006da</td>\n",
       "      <td>4</td>\n",
       "      <td>chegou hoje sem comentrios</td>\n",
       "      <td>1</td>\n",
       "    </tr>\n",
       "    <tr>\n",
       "      <th>209</th>\n",
       "      <td>5a8e7d5003a1f221f9e1d6e411de7c23</td>\n",
       "      <td>4</td>\n",
       "      <td>o pedido chegou antes do combinado muito bom</td>\n",
       "      <td>1</td>\n",
       "    </tr>\n",
       "    <tr>\n",
       "      <th>210</th>\n",
       "      <td>1025f0e2d44d7041d6cf58b6550e0bfa</td>\n",
       "      <td>4</td>\n",
       "      <td>o pedido chegou antes do combinado muito bom</td>\n",
       "      <td>1</td>\n",
       "    </tr>\n",
       "  </tbody>\n",
       "</table>\n",
       "</div>"
      ],
      "text/plain": [
       "                            seller_id  review_score  \\\n",
       "2    05ff92fedb5be47920fea08e501238b9             4   \n",
       "3    db4350fd57ae30082dec7acbaacc17f9             4   \n",
       "13   bd15ee794d5e640d9dd71b665b2ab15b             4   \n",
       "32   febab0275244b9a49a623f0bd613ca2f             4   \n",
       "61   0761743cbffb25d7148189e9f1a5f03a             4   \n",
       "62   0761743cbffb25d7148189e9f1a5f03a             4   \n",
       "63   0761743cbffb25d7148189e9f1a5f03a             4   \n",
       "64   0761743cbffb25d7148189e9f1a5f03a             4   \n",
       "65   0761743cbffb25d7148189e9f1a5f03a             4   \n",
       "90   1025f0e2d44d7041d6cf58b6550e0bfa             4   \n",
       "91   1025f0e2d44d7041d6cf58b6550e0bfa             4   \n",
       "131  e9511df20ccd82658a30c37b7fb343af             4   \n",
       "135  0dd184061fb0eaa7ca37932c68ab91c5             4   \n",
       "153  fa1c13f2614d7b5c4749cbc52fecda94             4   \n",
       "171  3340ef1913fb70d28420f6ceb685c339             4   \n",
       "179  b76dba6c951ab00dc4edf0a1aa88037e             4   \n",
       "180  834f8533b2ecb6598dd004ff3de7203a             4   \n",
       "184  9539213aa8e023c01937bef95dc006da             4   \n",
       "209  5a8e7d5003a1f221f9e1d6e411de7c23             4   \n",
       "210  1025f0e2d44d7041d6cf58b6550e0bfa             4   \n",
       "\n",
       "                                review_comment_message  score  \n",
       "2    aparelho eficiente no site a marca do aparelho...      1  \n",
       "3               mas um pouco travandopelo valor ta boa      1  \n",
       "13   recebi exatamente o que esperava as demais enc...      1  \n",
       "32   tima loja para parceria rpidssima produtos bem...      1  \n",
       "61   estava faltando apenas um produto eu recebi ho...      0  \n",
       "62   estava faltando apenas um produto eu recebi ho...      0  \n",
       "63   estava faltando apenas um produto eu recebi ho...      0  \n",
       "64   estava faltando apenas um produto eu recebi ho...      0  \n",
       "65   estava faltando apenas um produto eu recebi ho...      0  \n",
       "90   se fosse vidro tinha quebrado veio na caixa se...      0  \n",
       "91   se fosse vidro tinha quebrado veio na caixa se...      0  \n",
       "131                          atendeu minha expectativa      1  \n",
       "135  uma das peas no encaixava estava de dimetro di...      0  \n",
       "153  parabns para loja e revendedor apesar de ter d...      1  \n",
       "171                                            foi bom      1  \n",
       "179                        entrega super rpida parabns      1  \n",
       "180                             tudo rpido e eficiente      1  \n",
       "184                         chegou hoje sem comentrios      1  \n",
       "209       o pedido chegou antes do combinado muito bom      1  \n",
       "210       o pedido chegou antes do combinado muito bom      1  "
      ]
     },
     "execution_count": 116,
     "metadata": {},
     "output_type": "execute_result"
    }
   ],
   "source": [
    "analysis_rev[analysis_rev[\"review_score\"]==4].head(20)"
   ]
  },
  {
   "cell_type": "code",
   "execution_count": 118,
   "metadata": {},
   "outputs": [
    {
     "data": {
      "text/plain": [
       "'estava faltando apenas um produto eu recebi hoje muito obrigada tudo certo att elenice'"
      ]
     },
     "execution_count": 118,
     "metadata": {},
     "output_type": "execute_result"
    }
   ],
   "source": [
    "analysis_rev.loc[61, \"review_comment_message\"]"
   ]
  },
  {
   "cell_type": "markdown",
   "metadata": {},
   "source": [
    "translate: only one product was missing i received it today thank you so much everything is fine att elenice "
   ]
  },
  {
   "cell_type": "markdown",
   "metadata": {},
   "source": [
    "**It is not surprising why the model identified the comment as negative. one unit of goods did not arrive...**"
   ]
  },
  {
   "cell_type": "code",
   "execution_count": 121,
   "metadata": {},
   "outputs": [
    {
     "data": {
      "text/plain": [
       "'uma das peas no encaixava estava de dimetro diferente eu tive que serrar e martelar para poder caber e encaixar de resto tudo ok'"
      ]
     },
     "execution_count": 121,
     "metadata": {},
     "output_type": "execute_result"
    }
   ],
   "source": [
    "analysis_rev.loc[135, \"review_comment_message\"]"
   ]
  },
  {
   "cell_type": "markdown",
   "metadata": {},
   "source": [
    "translate: 'one of the pieces didn't fit, it was a different size, so I had to saw it off and hammer it to get it to fit, otherwise everything was fine'"
   ]
  },
  {
   "cell_type": "code",
   "execution_count": 122,
   "metadata": {},
   "outputs": [
    {
     "data": {
      "text/html": [
       "<div>\n",
       "<style scoped>\n",
       "    .dataframe tbody tr th:only-of-type {\n",
       "        vertical-align: middle;\n",
       "    }\n",
       "\n",
       "    .dataframe tbody tr th {\n",
       "        vertical-align: top;\n",
       "    }\n",
       "\n",
       "    .dataframe thead th {\n",
       "        text-align: right;\n",
       "    }\n",
       "</style>\n",
       "<table border=\"1\" class=\"dataframe\">\n",
       "  <thead>\n",
       "    <tr style=\"text-align: right;\">\n",
       "      <th></th>\n",
       "      <th>seller_id</th>\n",
       "      <th>review_score</th>\n",
       "      <th>review_comment_message</th>\n",
       "      <th>score</th>\n",
       "    </tr>\n",
       "  </thead>\n",
       "  <tbody>\n",
       "    <tr>\n",
       "      <th>37</th>\n",
       "      <td>aac29b1b99776be73c3049939652091d</td>\n",
       "      <td>3</td>\n",
       "      <td>eu comprei duas unidades e s recebi uma e agor...</td>\n",
       "      <td>0</td>\n",
       "    </tr>\n",
       "    <tr>\n",
       "      <th>38</th>\n",
       "      <td>aac29b1b99776be73c3049939652091d</td>\n",
       "      <td>3</td>\n",
       "      <td>eu comprei duas unidades e s recebi uma e agor...</td>\n",
       "      <td>0</td>\n",
       "    </tr>\n",
       "    <tr>\n",
       "      <th>39</th>\n",
       "      <td>c794dab4928dd97beb41d05514441e86</td>\n",
       "      <td>3</td>\n",
       "      <td>produto bom porm o que veio para mim no condiz...</td>\n",
       "      <td>0</td>\n",
       "    </tr>\n",
       "    <tr>\n",
       "      <th>44</th>\n",
       "      <td>78c99c6dff4eeae5be99bf635ed21e3f</td>\n",
       "      <td>3</td>\n",
       "      <td>entrega no prazo</td>\n",
       "      <td>1</td>\n",
       "    </tr>\n",
       "    <tr>\n",
       "      <th>45</th>\n",
       "      <td>78c99c6dff4eeae5be99bf635ed21e3f</td>\n",
       "      <td>3</td>\n",
       "      <td>entrega no prazo</td>\n",
       "      <td>1</td>\n",
       "    </tr>\n",
       "    <tr>\n",
       "      <th>52</th>\n",
       "      <td>5656537e588803a555b8eb41f07a944b</td>\n",
       "      <td>3</td>\n",
       "      <td>produto chegou mas meu pc no conseguiu reconhe...</td>\n",
       "      <td>0</td>\n",
       "    </tr>\n",
       "    <tr>\n",
       "      <th>69</th>\n",
       "      <td>5dceca129747e92ff8ef7a997dc4f8ca</td>\n",
       "      <td>3</td>\n",
       "      <td>a entrega foi dividida em duas no houve comuni...</td>\n",
       "      <td>0</td>\n",
       "    </tr>\n",
       "    <tr>\n",
       "      <th>72</th>\n",
       "      <td>7c67e1448b00f6e969d365cea6b010ab</td>\n",
       "      <td>3</td>\n",
       "      <td>gostei</td>\n",
       "      <td>1</td>\n",
       "    </tr>\n",
       "    <tr>\n",
       "      <th>100</th>\n",
       "      <td>1025f0e2d44d7041d6cf58b6550e0bfa</td>\n",
       "      <td>3</td>\n",
       "      <td>comprei dois lustres pendentes com a parceira ...</td>\n",
       "      <td>0</td>\n",
       "    </tr>\n",
       "    <tr>\n",
       "      <th>101</th>\n",
       "      <td>1025f0e2d44d7041d6cf58b6550e0bfa</td>\n",
       "      <td>3</td>\n",
       "      <td>comprei dois lustres pendentes com a parceira ...</td>\n",
       "      <td>0</td>\n",
       "    </tr>\n",
       "    <tr>\n",
       "      <th>117</th>\n",
       "      <td>06a2c3af7b3aee5d69171b0e14f0ee87</td>\n",
       "      <td>3</td>\n",
       "      <td>comecei a usar agora</td>\n",
       "      <td>1</td>\n",
       "    </tr>\n",
       "    <tr>\n",
       "      <th>119</th>\n",
       "      <td>72c5da29406b4234927b81855e7b64f6</td>\n",
       "      <td>3</td>\n",
       "      <td>comprar um produto correto na capa mas interno...</td>\n",
       "      <td>1</td>\n",
       "    </tr>\n",
       "    <tr>\n",
       "      <th>120</th>\n",
       "      <td>53243585a1d6dc2643021fd1853d8905</td>\n",
       "      <td>3</td>\n",
       "      <td>entrega super rapida</td>\n",
       "      <td>1</td>\n",
       "    </tr>\n",
       "    <tr>\n",
       "      <th>121</th>\n",
       "      <td>5011f0d93373a4c5753adf58ca77af8d</td>\n",
       "      <td>3</td>\n",
       "      <td>fiz um pedido de 4 garrafas de azeitechegaram ...</td>\n",
       "      <td>0</td>\n",
       "    </tr>\n",
       "    <tr>\n",
       "      <th>122</th>\n",
       "      <td>5011f0d93373a4c5753adf58ca77af8d</td>\n",
       "      <td>3</td>\n",
       "      <td>fiz um pedido de 4 garrafas de azeitechegaram ...</td>\n",
       "      <td>0</td>\n",
       "    </tr>\n",
       "    <tr>\n",
       "      <th>123</th>\n",
       "      <td>5011f0d93373a4c5753adf58ca77af8d</td>\n",
       "      <td>3</td>\n",
       "      <td>fiz um pedido de 4 garrafas de azeitechegaram ...</td>\n",
       "      <td>0</td>\n",
       "    </tr>\n",
       "    <tr>\n",
       "      <th>124</th>\n",
       "      <td>5011f0d93373a4c5753adf58ca77af8d</td>\n",
       "      <td>3</td>\n",
       "      <td>fiz um pedido de 4 garrafas de azeitechegaram ...</td>\n",
       "      <td>0</td>\n",
       "    </tr>\n",
       "    <tr>\n",
       "      <th>129</th>\n",
       "      <td>c990d6cf976a5718aaedc539f383ab88</td>\n",
       "      <td>3</td>\n",
       "      <td>no recomendaria esta loja nem pretendo voltar ...</td>\n",
       "      <td>0</td>\n",
       "    </tr>\n",
       "    <tr>\n",
       "      <th>151</th>\n",
       "      <td>f5a590cf36251cf1162ea35bef76fe84</td>\n",
       "      <td>3</td>\n",
       "      <td>apesar de ter sido entregue rapidamente substi...</td>\n",
       "      <td>0</td>\n",
       "    </tr>\n",
       "    <tr>\n",
       "      <th>174</th>\n",
       "      <td>9b00ed88b7fdb95d6ff76e27c1b52d16</td>\n",
       "      <td>3</td>\n",
       "      <td>ao fazer a compra do kit entendi que receberia...</td>\n",
       "      <td>0</td>\n",
       "    </tr>\n",
       "  </tbody>\n",
       "</table>\n",
       "</div>"
      ],
      "text/plain": [
       "                            seller_id  review_score  \\\n",
       "37   aac29b1b99776be73c3049939652091d             3   \n",
       "38   aac29b1b99776be73c3049939652091d             3   \n",
       "39   c794dab4928dd97beb41d05514441e86             3   \n",
       "44   78c99c6dff4eeae5be99bf635ed21e3f             3   \n",
       "45   78c99c6dff4eeae5be99bf635ed21e3f             3   \n",
       "52   5656537e588803a555b8eb41f07a944b             3   \n",
       "69   5dceca129747e92ff8ef7a997dc4f8ca             3   \n",
       "72   7c67e1448b00f6e969d365cea6b010ab             3   \n",
       "100  1025f0e2d44d7041d6cf58b6550e0bfa             3   \n",
       "101  1025f0e2d44d7041d6cf58b6550e0bfa             3   \n",
       "117  06a2c3af7b3aee5d69171b0e14f0ee87             3   \n",
       "119  72c5da29406b4234927b81855e7b64f6             3   \n",
       "120  53243585a1d6dc2643021fd1853d8905             3   \n",
       "121  5011f0d93373a4c5753adf58ca77af8d             3   \n",
       "122  5011f0d93373a4c5753adf58ca77af8d             3   \n",
       "123  5011f0d93373a4c5753adf58ca77af8d             3   \n",
       "124  5011f0d93373a4c5753adf58ca77af8d             3   \n",
       "129  c990d6cf976a5718aaedc539f383ab88             3   \n",
       "151  f5a590cf36251cf1162ea35bef76fe84             3   \n",
       "174  9b00ed88b7fdb95d6ff76e27c1b52d16             3   \n",
       "\n",
       "                                review_comment_message  score  \n",
       "37   eu comprei duas unidades e s recebi uma e agor...      0  \n",
       "38   eu comprei duas unidades e s recebi uma e agor...      0  \n",
       "39   produto bom porm o que veio para mim no condiz...      0  \n",
       "44                                    entrega no prazo      1  \n",
       "45                                    entrega no prazo      1  \n",
       "52   produto chegou mas meu pc no conseguiu reconhe...      0  \n",
       "69   a entrega foi dividida em duas no houve comuni...      0  \n",
       "72                                              gostei      1  \n",
       "100  comprei dois lustres pendentes com a parceira ...      0  \n",
       "101  comprei dois lustres pendentes com a parceira ...      0  \n",
       "117                               comecei a usar agora      1  \n",
       "119  comprar um produto correto na capa mas interno...      1  \n",
       "120                               entrega super rapida      1  \n",
       "121  fiz um pedido de 4 garrafas de azeitechegaram ...      0  \n",
       "122  fiz um pedido de 4 garrafas de azeitechegaram ...      0  \n",
       "123  fiz um pedido de 4 garrafas de azeitechegaram ...      0  \n",
       "124  fiz um pedido de 4 garrafas de azeitechegaram ...      0  \n",
       "129  no recomendaria esta loja nem pretendo voltar ...      0  \n",
       "151  apesar de ter sido entregue rapidamente substi...      0  \n",
       "174  ao fazer a compra do kit entendi que receberia...      0  "
      ]
     },
     "execution_count": 122,
     "metadata": {},
     "output_type": "execute_result"
    }
   ],
   "source": [
    "analysis_rev[analysis_rev[\"review_score\"]==3].head(20)"
   ]
  },
  {
   "cell_type": "code",
   "execution_count": 123,
   "metadata": {},
   "outputs": [
    {
     "data": {
      "text/plain": [
       "'a entrega foi dividida em duas no houve comunicado do loja cheguei a pensar que s haviam enviado parte do produto'"
      ]
     },
     "execution_count": 123,
     "metadata": {},
     "output_type": "execute_result"
    }
   ],
   "source": [
    "analysis_rev.loc[69, \"review_comment_message\"]"
   ]
  },
  {
   "cell_type": "markdown",
   "metadata": {},
   "source": [
    "translate: the delivery was split in two there was no communication from the store i thought they had only sent part of the product"
   ]
  },
  {
   "cell_type": "markdown",
   "metadata": {},
   "source": [
    "## Drop review duplicates and explore correlation"
   ]
  },
  {
   "cell_type": "code",
   "execution_count": 125,
   "metadata": {},
   "outputs": [],
   "source": [
    "analysis_dropped = analysis_rev.drop_duplicates(subset=\"review_comment_message\")"
   ]
  },
  {
   "cell_type": "code",
   "execution_count": 127,
   "metadata": {},
   "outputs": [
    {
     "name": "stdout",
     "output_type": "stream",
     "text": [
      "the score 5 values is:   score\n",
      "1    15339\n",
      "0      439\n",
      "Name: count, dtype: int64 \n",
      " ------------------------------\n",
      "the score 4 values is:   score\n",
      "1    3417\n",
      "0    1316\n",
      "Name: count, dtype: int64 \n",
      " ------------------------------\n",
      "the score 3 values is:   score\n",
      "0    2021\n",
      "1    1220\n",
      "Name: count, dtype: int64 \n",
      " ------------------------------\n",
      "the score 2 values is:   score\n",
      "0    1670\n",
      "1     383\n",
      "Name: count, dtype: int64 \n",
      " ------------------------------\n",
      "the score 1 values is:   score\n",
      "0    8044\n",
      "1     141\n",
      "Name: count, dtype: int64 \n",
      " ------------------------------\n"
     ]
    }
   ],
   "source": [
    "print(\"the score 5 values is:  \", analysis_dropped[analysis_dropped[\"review_score\"]==5].value_counts(\"score\"),\"\\n\", \"-\"*30)\n",
    "print(\"the score 4 values is:  \", analysis_dropped[analysis_dropped[\"review_score\"]==4].value_counts(\"score\"),\"\\n\", \"-\"*30)\n",
    "print(\"the score 3 values is:  \", analysis_dropped[analysis_dropped[\"review_score\"]==3].value_counts(\"score\"),\"\\n\", \"-\"*30)\n",
    "print(\"the score 2 values is:  \", analysis_dropped[analysis_dropped[\"review_score\"]==2].value_counts(\"score\"),\"\\n\", \"-\"*30)\n",
    "print(\"the score 1 values is:  \", analysis_dropped[analysis_dropped[\"review_score\"]==1].value_counts(\"score\"),\"\\n\", \"-\"*30)"
   ]
  },
  {
   "cell_type": "markdown",
   "metadata": {},
   "source": [
    "**Now we can conclude that the score of 4 is more positive than negative, the scores of 3 and 2 are more negative than positive**"
   ]
  },
  {
   "cell_type": "markdown",
   "metadata": {},
   "source": [
    "## Looking for seller with just negative reviews"
   ]
  },
  {
   "cell_type": "code",
   "execution_count": 172,
   "metadata": {},
   "outputs": [],
   "source": [
    "negative_sellers = analysis_rev[[\"seller_id\", \"score\"]]"
   ]
  },
  {
   "cell_type": "code",
   "execution_count": 186,
   "metadata": {},
   "outputs": [],
   "source": [
    "neg_seller = negative_sellers[negative_sellers.groupby(\"seller_id\")[\"score\"].transform('sum') == 0]"
   ]
  },
  {
   "cell_type": "code",
   "execution_count": 190,
   "metadata": {},
   "outputs": [
    {
     "data": {
      "text/plain": [
       "seller_id                         score\n",
       "4342d4b2ba6b161468c63a7e7cfce593  0        16\n",
       "973f21788dfab357250f69a8dcb7ddee  0        12\n",
       "f63d8f293af3a6454377546bd9dd19ff  0         9\n",
       "02d35243ea2e497335cd0f076b45675d  0         8\n",
       "bc503e244f187939d10c92a5c8e378ce  0         8\n",
       "                                           ..\n",
       "6614814a00d344b846ae209f95ee7e3f  0         1\n",
       "6601ee6383e7f452be71929f8de48bbb  0         1\n",
       "651530bf5c607240ccdd89a30c9c9712  0         1\n",
       "63bc58679c44e8a998792119fd7ad23e  0         1\n",
       "ffcfefa19b08742c5d315f2791395ee5  0         1\n",
       "Name: count, Length: 365, dtype: int64"
      ]
     },
     "execution_count": 190,
     "metadata": {},
     "output_type": "execute_result"
    }
   ],
   "source": [
    "neg_seller.value_counts()"
   ]
  },
  {
   "cell_type": "code",
   "execution_count": 193,
   "metadata": {},
   "outputs": [],
   "source": [
    "neg_seller = neg_seller.groupby(\"seller_id\").sum().reset_index()"
   ]
  },
  {
   "cell_type": "code",
   "execution_count": 194,
   "metadata": {},
   "outputs": [
    {
     "data": {
      "text/html": [
       "<div>\n",
       "<style scoped>\n",
       "    .dataframe tbody tr th:only-of-type {\n",
       "        vertical-align: middle;\n",
       "    }\n",
       "\n",
       "    .dataframe tbody tr th {\n",
       "        vertical-align: top;\n",
       "    }\n",
       "\n",
       "    .dataframe thead th {\n",
       "        text-align: right;\n",
       "    }\n",
       "</style>\n",
       "<table border=\"1\" class=\"dataframe\">\n",
       "  <thead>\n",
       "    <tr style=\"text-align: right;\">\n",
       "      <th></th>\n",
       "      <th>seller_id</th>\n",
       "      <th>score</th>\n",
       "    </tr>\n",
       "  </thead>\n",
       "  <tbody>\n",
       "    <tr>\n",
       "      <th>0</th>\n",
       "      <td>0015a82c2db000af6aaaf3ae2ecb0532</td>\n",
       "      <td>0</td>\n",
       "    </tr>\n",
       "    <tr>\n",
       "      <th>1</th>\n",
       "      <td>001e6ad469a905060d959994f1b41e4f</td>\n",
       "      <td>0</td>\n",
       "    </tr>\n",
       "    <tr>\n",
       "      <th>2</th>\n",
       "      <td>010da0602d7774602cd1b3f5fb7b709e</td>\n",
       "      <td>0</td>\n",
       "    </tr>\n",
       "    <tr>\n",
       "      <th>3</th>\n",
       "      <td>02a2272692e13558373c66db98f05e2e</td>\n",
       "      <td>0</td>\n",
       "    </tr>\n",
       "    <tr>\n",
       "      <th>4</th>\n",
       "      <td>02d35243ea2e497335cd0f076b45675d</td>\n",
       "      <td>0</td>\n",
       "    </tr>\n",
       "    <tr>\n",
       "      <th>...</th>\n",
       "      <td>...</td>\n",
       "      <td>...</td>\n",
       "    </tr>\n",
       "    <tr>\n",
       "      <th>360</th>\n",
       "      <td>fcf16b7a8697e559f0123190bb30177d</td>\n",
       "      <td>0</td>\n",
       "    </tr>\n",
       "    <tr>\n",
       "      <th>361</th>\n",
       "      <td>fec6912baad85d41729669edd6b4d3b8</td>\n",
       "      <td>0</td>\n",
       "    </tr>\n",
       "    <tr>\n",
       "      <th>362</th>\n",
       "      <td>fedf2c1386e137f296b3bbf3b635e69d</td>\n",
       "      <td>0</td>\n",
       "    </tr>\n",
       "    <tr>\n",
       "      <th>363</th>\n",
       "      <td>ff82e8873fba613f2261a9acc896fd84</td>\n",
       "      <td>0</td>\n",
       "    </tr>\n",
       "    <tr>\n",
       "      <th>364</th>\n",
       "      <td>ffcfefa19b08742c5d315f2791395ee5</td>\n",
       "      <td>0</td>\n",
       "    </tr>\n",
       "  </tbody>\n",
       "</table>\n",
       "<p>365 rows × 2 columns</p>\n",
       "</div>"
      ],
      "text/plain": [
       "                            seller_id  score\n",
       "0    0015a82c2db000af6aaaf3ae2ecb0532      0\n",
       "1    001e6ad469a905060d959994f1b41e4f      0\n",
       "2    010da0602d7774602cd1b3f5fb7b709e      0\n",
       "3    02a2272692e13558373c66db98f05e2e      0\n",
       "4    02d35243ea2e497335cd0f076b45675d      0\n",
       "..                                ...    ...\n",
       "360  fcf16b7a8697e559f0123190bb30177d      0\n",
       "361  fec6912baad85d41729669edd6b4d3b8      0\n",
       "362  fedf2c1386e137f296b3bbf3b635e69d      0\n",
       "363  ff82e8873fba613f2261a9acc896fd84      0\n",
       "364  ffcfefa19b08742c5d315f2791395ee5      0\n",
       "\n",
       "[365 rows x 2 columns]"
      ]
     },
     "execution_count": 194,
     "metadata": {},
     "output_type": "execute_result"
    }
   ],
   "source": [
    "neg_seller"
   ]
  },
  {
   "cell_type": "markdown",
   "metadata": {},
   "source": [
    "**Now we have dataframe with seller, who has just negative scores.**"
   ]
  },
  {
   "cell_type": "markdown",
   "metadata": {
    "id": "Fq__uUVyz2EZ"
   },
   "source": [
    "# Definition of the essence of price"
   ]
  },
  {
   "cell_type": "markdown",
   "metadata": {
    "id": "m2Lj2Vjj1s2y"
   },
   "source": [
    "I translated price, high, much, expensive to portuguese and found synonyms and map them by regex. every raw in data frame that contain words will add to df"
   ]
  },
  {
   "cell_type": "code",
   "execution_count": null,
   "metadata": {
    "colab": {
     "base_uri": "https://localhost:8080/"
    },
    "id": "G3b1xbym2gba",
    "outputId": "f8b36162-bb43-44ac-dbfe-a54a43ba08d7"
   },
   "outputs": [],
   "source": [
    "rew_to_score_clean.columns"
   ]
  },
  {
   "cell_type": "code",
   "execution_count": null,
   "metadata": {
    "id": "maAWWOZw0BxM"
   },
   "outputs": [],
   "source": [
    "# Load the original dataset\n",
    "df = rew_to_score_clean\n",
    "\n",
    "# Create a new dataset\n",
    "new_df = pd.DataFrame(columns=['review_comment_message'])\n",
    "\n",
    "# List of words to search using regular expressions\n",
    "search_words = ['Valor', 'Tarifa', 'Custo', 'Exorbitante', 'Elevado',\n",
    "                'Proibitivo', 'Bastante', 'Considerável', 'Abundante',\n",
    "                'Oneroso', 'Custoso', 'Dispendioso']\n",
    "\n",
    "# Iterate over each search word\n",
    "for word in search_words:\n",
    "    # Perform search using regular expression\n",
    "    regex = r'\\b' + word + r'\\b'\n",
    "    matches = df['review_comment_message'].str.contains(regex, regex=True,\n",
    "                                                               case=False)\n",
    "\n",
    "    # Add matches to the new dataset\n",
    "    matches_df = df[matches]\n",
    "    new_df = pd.concat([new_df, matches_df['review_comment_message']],\n",
    "                                                        ignore_index=True)\n",
    "\n",
    "new_df = new_df.rename(columns={0:\"reviews with price\"})\\\n",
    "                            .drop(columns=\"review_comment_message\",axis=1)"
   ]
  },
  {
   "cell_type": "code",
   "execution_count": null,
   "metadata": {
    "colab": {
     "base_uri": "https://localhost:8080/",
     "height": 423
    },
    "id": "xhQbSyNv2d1m",
    "outputId": "cb0f6e86-bf26-4929-9924-74357ddd7200"
   },
   "outputs": [],
   "source": [
    "new_df"
   ]
  },
  {
   "cell_type": "code",
   "execution_count": null,
   "metadata": {
    "colab": {
     "base_uri": "https://localhost:8080/",
     "height": 36
    },
    "id": "kHu-D3Dl20BM",
    "outputId": "65e4f6b5-f799-49c8-e980-b71c2c862419"
   },
   "outputs": [],
   "source": [
    "new_df.iloc[4,0]"
   ]
  },
  {
   "cell_type": "markdown",
   "metadata": {
    "id": "WDAPLTae5tBP"
   },
   "source": [
    "translate: The product was not as advertised. I called and I'm just waiting for the code to return the product and refund the amount paid."
   ]
  },
  {
   "cell_type": "code",
   "execution_count": null,
   "metadata": {
    "colab": {
     "base_uri": "https://localhost:8080/",
     "height": 36
    },
    "id": "8LCHBmIb5pKD",
    "outputId": "bbdccd63-d84a-4cff-c687-de6910cf2e2f"
   },
   "outputs": [],
   "source": [
    "new_df.iloc[500,0]"
   ]
  },
  {
   "cell_type": "markdown",
   "metadata": {
    "id": "9ydfTaXS54IA"
   },
   "source": [
    "translate Quality product with great value for money"
   ]
  },
  {
   "cell_type": "code",
   "execution_count": null,
   "metadata": {
    "colab": {
     "base_uri": "https://localhost:8080/",
     "height": 53
    },
    "id": "7-WiMAkC28Zy",
    "outputId": "5fda3b67-5da0-408b-b7b9-1123a93aa4d1"
   },
   "outputs": [],
   "source": [
    "new_df.iloc[200,0]"
   ]
  },
  {
   "cell_type": "markdown",
   "metadata": {
    "id": "gxV5QwXZ6KHF"
   },
   "source": [
    "translate: I paid shipping and had to pick up the product. Not to mention that the shipping was expensive. It took a long time to arrive.\n",
    "I just think the shipping should be cheaper. Shipping ends up being the same as the product or more expensive."
   ]
  },
  {
   "cell_type": "markdown",
   "metadata": {
    "id": "0Wm5QMXE6Uz8"
   },
   "source": [
    "Conclusion. this method works, if buisness will need and department will want to define reviews with price with better accuracy we can improve by creating synthethic dataset from our data, and after train model..."
   ]
  },
  {
   "cell_type": "markdown",
   "metadata": {
    "id": "oQidkdYX6Bv9"
   },
   "source": [
    "# **Task conclusion**"
   ]
  },
  {
   "cell_type": "markdown",
   "metadata": {
    "editable": true,
    "id": "9YtRJK4f8reI",
    "slideshow": {
     "slide_type": ""
    },
    "tags": []
   },
   "source": [
    "**In this assignment, I had to determine the positive and negative reviews using feature raising and XGBoost. I chose XGBoost because it is lightweight, fast to train, does not have many hyperparameters, and as a result performed quite well. \n",
    "Since the model was trained on scores 1 and 5, there were some inaccuracies with sentences such as did not come or was broken, although the score itself was positive. In the future, I would recommend training the dataset on all grades and define grade 3 depending on the needs of the business.  \n",
    "The correlation of comments on the assessment follows the logic: 4 and 5 are more positive, 1, 2, 3 are less. \n",
    "We found more than 300 sellers who had only negative reviews and created a table. \n",
    "And a function was created to determine the essence of price for the financial department. Improvements could also be made to the price if it was not enough. Namely, to create a sentimental dataset based on the filtered data and train the model on it.**"
   ]
  },
  {
   "cell_type": "code",
   "execution_count": null,
   "metadata": {},
   "outputs": [],
   "source": []
  }
 ],
 "metadata": {
  "accelerator": "GPU",
  "colab": {
   "gpuType": "T4",
   "provenance": [],
   "toc_visible": true
  },
  "kernelspec": {
   "display_name": "Python 3 (ipykernel)",
   "language": "python",
   "name": "python3"
  },
  "language_info": {
   "codemirror_mode": {
    "name": "ipython",
    "version": 3
   },
   "file_extension": ".py",
   "mimetype": "text/x-python",
   "name": "python",
   "nbconvert_exporter": "python",
   "pygments_lexer": "ipython3",
   "version": "3.9.19"
  },
  "widgets": {
   "application/vnd.jupyter.widget-state+json": {
    "002afdd16d114961811b080847dea8ec": {
     "model_module": "@jupyter-widgets/controls",
     "model_module_version": "1.5.0",
     "model_name": "HTMLModel",
     "state": {
      "_dom_classes": [],
      "_model_module": "@jupyter-widgets/controls",
      "_model_module_version": "1.5.0",
      "_model_name": "HTMLModel",
      "_view_count": null,
      "_view_module": "@jupyter-widgets/controls",
      "_view_module_version": "1.5.0",
      "_view_name": "HTMLView",
      "description": "",
      "description_tooltip": null,
      "layout": "IPY_MODEL_8c24dc5165d346ef8a45537f0003bf88",
      "placeholder": "​",
      "style": "IPY_MODEL_fdcf967323fd45ad8d260ab921152f4e",
      "value": "Map: 100%"
     }
    },
    "02e02fbdc3c94ba287613011d731f6e0": {
     "model_module": "@jupyter-widgets/controls",
     "model_module_version": "1.5.0",
     "model_name": "FloatProgressModel",
     "state": {
      "_dom_classes": [],
      "_model_module": "@jupyter-widgets/controls",
      "_model_module_version": "1.5.0",
      "_model_name": "FloatProgressModel",
      "_view_count": null,
      "_view_module": "@jupyter-widgets/controls",
      "_view_module_version": "1.5.0",
      "_view_name": "ProgressView",
      "bar_style": "success",
      "description": "",
      "description_tooltip": null,
      "layout": "IPY_MODEL_79baeda239414ffe8a75798c84e574a2",
      "max": 10366,
      "min": 0,
      "orientation": "horizontal",
      "style": "IPY_MODEL_10219477f77445a1ab37636c0369d286",
      "value": 10366
     }
    },
    "10219477f77445a1ab37636c0369d286": {
     "model_module": "@jupyter-widgets/controls",
     "model_module_version": "1.5.0",
     "model_name": "ProgressStyleModel",
     "state": {
      "_model_module": "@jupyter-widgets/controls",
      "_model_module_version": "1.5.0",
      "_model_name": "ProgressStyleModel",
      "_view_count": null,
      "_view_module": "@jupyter-widgets/base",
      "_view_module_version": "1.2.0",
      "_view_name": "StyleView",
      "bar_color": null,
      "description_width": ""
     }
    },
    "16f0fd0ae20148f68e646dd4ba501690": {
     "model_module": "@jupyter-widgets/controls",
     "model_module_version": "1.5.0",
     "model_name": "DescriptionStyleModel",
     "state": {
      "_model_module": "@jupyter-widgets/controls",
      "_model_module_version": "1.5.0",
      "_model_name": "DescriptionStyleModel",
      "_view_count": null,
      "_view_module": "@jupyter-widgets/base",
      "_view_module_version": "1.2.0",
      "_view_name": "StyleView",
      "description_width": ""
     }
    },
    "18ef9825776040a08f69aa64b02b8d05": {
     "model_module": "@jupyter-widgets/base",
     "model_module_version": "1.2.0",
     "model_name": "LayoutModel",
     "state": {
      "_model_module": "@jupyter-widgets/base",
      "_model_module_version": "1.2.0",
      "_model_name": "LayoutModel",
      "_view_count": null,
      "_view_module": "@jupyter-widgets/base",
      "_view_module_version": "1.2.0",
      "_view_name": "LayoutView",
      "align_content": null,
      "align_items": null,
      "align_self": null,
      "border": null,
      "bottom": null,
      "display": null,
      "flex": null,
      "flex_flow": null,
      "grid_area": null,
      "grid_auto_columns": null,
      "grid_auto_flow": null,
      "grid_auto_rows": null,
      "grid_column": null,
      "grid_gap": null,
      "grid_row": null,
      "grid_template_areas": null,
      "grid_template_columns": null,
      "grid_template_rows": null,
      "height": null,
      "justify_content": null,
      "justify_items": null,
      "left": null,
      "margin": null,
      "max_height": null,
      "max_width": null,
      "min_height": null,
      "min_width": null,
      "object_fit": null,
      "object_position": null,
      "order": null,
      "overflow": null,
      "overflow_x": null,
      "overflow_y": null,
      "padding": null,
      "right": null,
      "top": null,
      "visibility": null,
      "width": null
     }
    },
    "1d353a3131a14048a69b5311db4d4908": {
     "model_module": "@jupyter-widgets/base",
     "model_module_version": "1.2.0",
     "model_name": "LayoutModel",
     "state": {
      "_model_module": "@jupyter-widgets/base",
      "_model_module_version": "1.2.0",
      "_model_name": "LayoutModel",
      "_view_count": null,
      "_view_module": "@jupyter-widgets/base",
      "_view_module_version": "1.2.0",
      "_view_name": "LayoutView",
      "align_content": null,
      "align_items": null,
      "align_self": null,
      "border": null,
      "bottom": null,
      "display": null,
      "flex": null,
      "flex_flow": null,
      "grid_area": null,
      "grid_auto_columns": null,
      "grid_auto_flow": null,
      "grid_auto_rows": null,
      "grid_column": null,
      "grid_gap": null,
      "grid_row": null,
      "grid_template_areas": null,
      "grid_template_columns": null,
      "grid_template_rows": null,
      "height": null,
      "justify_content": null,
      "justify_items": null,
      "left": null,
      "margin": null,
      "max_height": null,
      "max_width": null,
      "min_height": null,
      "min_width": null,
      "object_fit": null,
      "object_position": null,
      "order": null,
      "overflow": null,
      "overflow_x": null,
      "overflow_y": null,
      "padding": null,
      "right": null,
      "top": null,
      "visibility": null,
      "width": null
     }
    },
    "23e4d64aff954f8c8972b5d7901a806e": {
     "model_module": "@jupyter-widgets/controls",
     "model_module_version": "1.5.0",
     "model_name": "DescriptionStyleModel",
     "state": {
      "_model_module": "@jupyter-widgets/controls",
      "_model_module_version": "1.5.0",
      "_model_name": "DescriptionStyleModel",
      "_view_count": null,
      "_view_module": "@jupyter-widgets/base",
      "_view_module_version": "1.2.0",
      "_view_name": "StyleView",
      "description_width": ""
     }
    },
    "287d0aca4ae54641af884bff21340328": {
     "model_module": "@jupyter-widgets/controls",
     "model_module_version": "1.5.0",
     "model_name": "DescriptionStyleModel",
     "state": {
      "_model_module": "@jupyter-widgets/controls",
      "_model_module_version": "1.5.0",
      "_model_name": "DescriptionStyleModel",
      "_view_count": null,
      "_view_module": "@jupyter-widgets/base",
      "_view_module_version": "1.2.0",
      "_view_name": "StyleView",
      "description_width": ""
     }
    },
    "3eece57a388b480cb21cb9e5aeb6fbf4": {
     "model_module": "@jupyter-widgets/base",
     "model_module_version": "1.2.0",
     "model_name": "LayoutModel",
     "state": {
      "_model_module": "@jupyter-widgets/base",
      "_model_module_version": "1.2.0",
      "_model_name": "LayoutModel",
      "_view_count": null,
      "_view_module": "@jupyter-widgets/base",
      "_view_module_version": "1.2.0",
      "_view_name": "LayoutView",
      "align_content": null,
      "align_items": null,
      "align_self": null,
      "border": null,
      "bottom": null,
      "display": null,
      "flex": null,
      "flex_flow": null,
      "grid_area": null,
      "grid_auto_columns": null,
      "grid_auto_flow": null,
      "grid_auto_rows": null,
      "grid_column": null,
      "grid_gap": null,
      "grid_row": null,
      "grid_template_areas": null,
      "grid_template_columns": null,
      "grid_template_rows": null,
      "height": null,
      "justify_content": null,
      "justify_items": null,
      "left": null,
      "margin": null,
      "max_height": null,
      "max_width": null,
      "min_height": null,
      "min_width": null,
      "object_fit": null,
      "object_position": null,
      "order": null,
      "overflow": null,
      "overflow_x": null,
      "overflow_y": null,
      "padding": null,
      "right": null,
      "top": null,
      "visibility": null,
      "width": null
     }
    },
    "428b1d605b004b93a95a862d9c7149e7": {
     "model_module": "@jupyter-widgets/controls",
     "model_module_version": "1.5.0",
     "model_name": "HBoxModel",
     "state": {
      "_dom_classes": [],
      "_model_module": "@jupyter-widgets/controls",
      "_model_module_version": "1.5.0",
      "_model_name": "HBoxModel",
      "_view_count": null,
      "_view_module": "@jupyter-widgets/controls",
      "_view_module_version": "1.5.0",
      "_view_name": "HBoxView",
      "box_style": "",
      "children": [
       "IPY_MODEL_002afdd16d114961811b080847dea8ec",
       "IPY_MODEL_77f3e10ee3af4112a7b67ec285946df8",
       "IPY_MODEL_da2be223bc5a4328aad9091a0049a23e"
      ],
      "layout": "IPY_MODEL_1d353a3131a14048a69b5311db4d4908"
     }
    },
    "6fc1fc74ed8145dd85465584dc0e3aa1": {
     "model_module": "@jupyter-widgets/controls",
     "model_module_version": "1.5.0",
     "model_name": "ProgressStyleModel",
     "state": {
      "_model_module": "@jupyter-widgets/controls",
      "_model_module_version": "1.5.0",
      "_model_name": "ProgressStyleModel",
      "_view_count": null,
      "_view_module": "@jupyter-widgets/base",
      "_view_module_version": "1.2.0",
      "_view_name": "StyleView",
      "bar_color": null,
      "description_width": ""
     }
    },
    "71b197688aba4149a90aefb4b4d4f761": {
     "model_module": "@jupyter-widgets/controls",
     "model_module_version": "1.5.0",
     "model_name": "HTMLModel",
     "state": {
      "_dom_classes": [],
      "_model_module": "@jupyter-widgets/controls",
      "_model_module_version": "1.5.0",
      "_model_name": "HTMLModel",
      "_view_count": null,
      "_view_module": "@jupyter-widgets/controls",
      "_view_module_version": "1.5.0",
      "_view_name": "HTMLView",
      "description": "",
      "description_tooltip": null,
      "layout": "IPY_MODEL_e42ba404996b4278955186f3411bae1d",
      "placeholder": "​",
      "style": "IPY_MODEL_287d0aca4ae54641af884bff21340328",
      "value": "Map: 100%"
     }
    },
    "77f3e10ee3af4112a7b67ec285946df8": {
     "model_module": "@jupyter-widgets/controls",
     "model_module_version": "1.5.0",
     "model_name": "FloatProgressModel",
     "state": {
      "_dom_classes": [],
      "_model_module": "@jupyter-widgets/controls",
      "_model_module_version": "1.5.0",
      "_model_name": "FloatProgressModel",
      "_view_count": null,
      "_view_module": "@jupyter-widgets/controls",
      "_view_module_version": "1.5.0",
      "_view_name": "ProgressView",
      "bar_style": "success",
      "description": "",
      "description_tooltip": null,
      "layout": "IPY_MODEL_18ef9825776040a08f69aa64b02b8d05",
      "max": 10366,
      "min": 0,
      "orientation": "horizontal",
      "style": "IPY_MODEL_6fc1fc74ed8145dd85465584dc0e3aa1",
      "value": 10366
     }
    },
    "79baeda239414ffe8a75798c84e574a2": {
     "model_module": "@jupyter-widgets/base",
     "model_module_version": "1.2.0",
     "model_name": "LayoutModel",
     "state": {
      "_model_module": "@jupyter-widgets/base",
      "_model_module_version": "1.2.0",
      "_model_name": "LayoutModel",
      "_view_count": null,
      "_view_module": "@jupyter-widgets/base",
      "_view_module_version": "1.2.0",
      "_view_name": "LayoutView",
      "align_content": null,
      "align_items": null,
      "align_self": null,
      "border": null,
      "bottom": null,
      "display": null,
      "flex": null,
      "flex_flow": null,
      "grid_area": null,
      "grid_auto_columns": null,
      "grid_auto_flow": null,
      "grid_auto_rows": null,
      "grid_column": null,
      "grid_gap": null,
      "grid_row": null,
      "grid_template_areas": null,
      "grid_template_columns": null,
      "grid_template_rows": null,
      "height": null,
      "justify_content": null,
      "justify_items": null,
      "left": null,
      "margin": null,
      "max_height": null,
      "max_width": null,
      "min_height": null,
      "min_width": null,
      "object_fit": null,
      "object_position": null,
      "order": null,
      "overflow": null,
      "overflow_x": null,
      "overflow_y": null,
      "padding": null,
      "right": null,
      "top": null,
      "visibility": null,
      "width": null
     }
    },
    "83e29d52be0b4d04b663c0b5670f734f": {
     "model_module": "@jupyter-widgets/base",
     "model_module_version": "1.2.0",
     "model_name": "LayoutModel",
     "state": {
      "_model_module": "@jupyter-widgets/base",
      "_model_module_version": "1.2.0",
      "_model_name": "LayoutModel",
      "_view_count": null,
      "_view_module": "@jupyter-widgets/base",
      "_view_module_version": "1.2.0",
      "_view_name": "LayoutView",
      "align_content": null,
      "align_items": null,
      "align_self": null,
      "border": null,
      "bottom": null,
      "display": null,
      "flex": null,
      "flex_flow": null,
      "grid_area": null,
      "grid_auto_columns": null,
      "grid_auto_flow": null,
      "grid_auto_rows": null,
      "grid_column": null,
      "grid_gap": null,
      "grid_row": null,
      "grid_template_areas": null,
      "grid_template_columns": null,
      "grid_template_rows": null,
      "height": null,
      "justify_content": null,
      "justify_items": null,
      "left": null,
      "margin": null,
      "max_height": null,
      "max_width": null,
      "min_height": null,
      "min_width": null,
      "object_fit": null,
      "object_position": null,
      "order": null,
      "overflow": null,
      "overflow_x": null,
      "overflow_y": null,
      "padding": null,
      "right": null,
      "top": null,
      "visibility": null,
      "width": null
     }
    },
    "8c24dc5165d346ef8a45537f0003bf88": {
     "model_module": "@jupyter-widgets/base",
     "model_module_version": "1.2.0",
     "model_name": "LayoutModel",
     "state": {
      "_model_module": "@jupyter-widgets/base",
      "_model_module_version": "1.2.0",
      "_model_name": "LayoutModel",
      "_view_count": null,
      "_view_module": "@jupyter-widgets/base",
      "_view_module_version": "1.2.0",
      "_view_name": "LayoutView",
      "align_content": null,
      "align_items": null,
      "align_self": null,
      "border": null,
      "bottom": null,
      "display": null,
      "flex": null,
      "flex_flow": null,
      "grid_area": null,
      "grid_auto_columns": null,
      "grid_auto_flow": null,
      "grid_auto_rows": null,
      "grid_column": null,
      "grid_gap": null,
      "grid_row": null,
      "grid_template_areas": null,
      "grid_template_columns": null,
      "grid_template_rows": null,
      "height": null,
      "justify_content": null,
      "justify_items": null,
      "left": null,
      "margin": null,
      "max_height": null,
      "max_width": null,
      "min_height": null,
      "min_width": null,
      "object_fit": null,
      "object_position": null,
      "order": null,
      "overflow": null,
      "overflow_x": null,
      "overflow_y": null,
      "padding": null,
      "right": null,
      "top": null,
      "visibility": null,
      "width": null
     }
    },
    "aaf1282ccb6e48d79bfd277daec30e8f": {
     "model_module": "@jupyter-widgets/controls",
     "model_module_version": "1.5.0",
     "model_name": "HTMLModel",
     "state": {
      "_dom_classes": [],
      "_model_module": "@jupyter-widgets/controls",
      "_model_module_version": "1.5.0",
      "_model_name": "HTMLModel",
      "_view_count": null,
      "_view_module": "@jupyter-widgets/controls",
      "_view_module_version": "1.5.0",
      "_view_name": "HTMLView",
      "description": "",
      "description_tooltip": null,
      "layout": "IPY_MODEL_ba504f524264489f9243a8d732652304",
      "placeholder": "​",
      "style": "IPY_MODEL_16f0fd0ae20148f68e646dd4ba501690",
      "value": " 10366/10366 [00:02&lt;00:00, 4748.51 examples/s]"
     }
    },
    "ba504f524264489f9243a8d732652304": {
     "model_module": "@jupyter-widgets/base",
     "model_module_version": "1.2.0",
     "model_name": "LayoutModel",
     "state": {
      "_model_module": "@jupyter-widgets/base",
      "_model_module_version": "1.2.0",
      "_model_name": "LayoutModel",
      "_view_count": null,
      "_view_module": "@jupyter-widgets/base",
      "_view_module_version": "1.2.0",
      "_view_name": "LayoutView",
      "align_content": null,
      "align_items": null,
      "align_self": null,
      "border": null,
      "bottom": null,
      "display": null,
      "flex": null,
      "flex_flow": null,
      "grid_area": null,
      "grid_auto_columns": null,
      "grid_auto_flow": null,
      "grid_auto_rows": null,
      "grid_column": null,
      "grid_gap": null,
      "grid_row": null,
      "grid_template_areas": null,
      "grid_template_columns": null,
      "grid_template_rows": null,
      "height": null,
      "justify_content": null,
      "justify_items": null,
      "left": null,
      "margin": null,
      "max_height": null,
      "max_width": null,
      "min_height": null,
      "min_width": null,
      "object_fit": null,
      "object_position": null,
      "order": null,
      "overflow": null,
      "overflow_x": null,
      "overflow_y": null,
      "padding": null,
      "right": null,
      "top": null,
      "visibility": null,
      "width": null
     }
    },
    "d385d91871f14faf9da610a55e20b588": {
     "model_module": "@jupyter-widgets/controls",
     "model_module_version": "1.5.0",
     "model_name": "HBoxModel",
     "state": {
      "_dom_classes": [],
      "_model_module": "@jupyter-widgets/controls",
      "_model_module_version": "1.5.0",
      "_model_name": "HBoxModel",
      "_view_count": null,
      "_view_module": "@jupyter-widgets/controls",
      "_view_module_version": "1.5.0",
      "_view_name": "HBoxView",
      "box_style": "",
      "children": [
       "IPY_MODEL_71b197688aba4149a90aefb4b4d4f761",
       "IPY_MODEL_02e02fbdc3c94ba287613011d731f6e0",
       "IPY_MODEL_aaf1282ccb6e48d79bfd277daec30e8f"
      ],
      "layout": "IPY_MODEL_83e29d52be0b4d04b663c0b5670f734f"
     }
    },
    "da2be223bc5a4328aad9091a0049a23e": {
     "model_module": "@jupyter-widgets/controls",
     "model_module_version": "1.5.0",
     "model_name": "HTMLModel",
     "state": {
      "_dom_classes": [],
      "_model_module": "@jupyter-widgets/controls",
      "_model_module_version": "1.5.0",
      "_model_name": "HTMLModel",
      "_view_count": null,
      "_view_module": "@jupyter-widgets/controls",
      "_view_module_version": "1.5.0",
      "_view_name": "HTMLView",
      "description": "",
      "description_tooltip": null,
      "layout": "IPY_MODEL_3eece57a388b480cb21cb9e5aeb6fbf4",
      "placeholder": "​",
      "style": "IPY_MODEL_23e4d64aff954f8c8972b5d7901a806e",
      "value": " 10366/10366 [00:01&lt;00:00, 6910.41 examples/s]"
     }
    },
    "e42ba404996b4278955186f3411bae1d": {
     "model_module": "@jupyter-widgets/base",
     "model_module_version": "1.2.0",
     "model_name": "LayoutModel",
     "state": {
      "_model_module": "@jupyter-widgets/base",
      "_model_module_version": "1.2.0",
      "_model_name": "LayoutModel",
      "_view_count": null,
      "_view_module": "@jupyter-widgets/base",
      "_view_module_version": "1.2.0",
      "_view_name": "LayoutView",
      "align_content": null,
      "align_items": null,
      "align_self": null,
      "border": null,
      "bottom": null,
      "display": null,
      "flex": null,
      "flex_flow": null,
      "grid_area": null,
      "grid_auto_columns": null,
      "grid_auto_flow": null,
      "grid_auto_rows": null,
      "grid_column": null,
      "grid_gap": null,
      "grid_row": null,
      "grid_template_areas": null,
      "grid_template_columns": null,
      "grid_template_rows": null,
      "height": null,
      "justify_content": null,
      "justify_items": null,
      "left": null,
      "margin": null,
      "max_height": null,
      "max_width": null,
      "min_height": null,
      "min_width": null,
      "object_fit": null,
      "object_position": null,
      "order": null,
      "overflow": null,
      "overflow_x": null,
      "overflow_y": null,
      "padding": null,
      "right": null,
      "top": null,
      "visibility": null,
      "width": null
     }
    },
    "fdcf967323fd45ad8d260ab921152f4e": {
     "model_module": "@jupyter-widgets/controls",
     "model_module_version": "1.5.0",
     "model_name": "DescriptionStyleModel",
     "state": {
      "_model_module": "@jupyter-widgets/controls",
      "_model_module_version": "1.5.0",
      "_model_name": "DescriptionStyleModel",
      "_view_count": null,
      "_view_module": "@jupyter-widgets/base",
      "_view_module_version": "1.2.0",
      "_view_name": "StyleView",
      "description_width": ""
     }
    }
   }
  }
 },
 "nbformat": 4,
 "nbformat_minor": 4
}
